{
  "nbformat": 4,
  "nbformat_minor": 0,
  "metadata": {
    "colab": {
      "provenance": [],
      "include_colab_link": true
    },
    "kernelspec": {
      "name": "python3",
      "display_name": "Python 3"
    },
    "language_info": {
      "name": "python"
    }
  },
  "cells": [
    {
      "cell_type": "markdown",
      "metadata": {
        "id": "view-in-github",
        "colab_type": "text"
      },
      "source": [
        "<a href=\"https://colab.research.google.com/github/joaowolfcouto/Joao-Wolf-Repository/blob/main/Rock_Paper_Scissors_and_leap_year_Joao_Wolf_Couto.ipynb\" target=\"_parent\"><img src=\"https://colab.research.google.com/assets/colab-badge.svg\" alt=\"Open In Colab\"/></a>"
      ]
    },
    {
      "cell_type": "code",
      "execution_count": null,
      "metadata": {
        "id": "EB5SzGQTt5E2",
        "colab": {
          "base_uri": "https://localhost:8080/"
        },
        "outputId": "5b3f148e-065e-4c29-957e-fadd4f5b603a"
      },
      "outputs": [
        {
          "output_type": "stream",
          "name": "stdout",
          "text": [
            "Enter your choice(rock, paper ,scissors):rock\n",
            "You choose: rock\n",
            "Computer choose: rock\n",
            "It's a tie!\n"
          ]
        }
      ],
      "source": [
        "\n",
        "import random\n",
        "computer_choice=random.choice([\"rock\" ,\"paper\",\"scissors\"])\n",
        "user_choice= input(\"Enter your choice(rock, paper ,scissors):\")\n",
        "\n",
        "print(f\"You choose: {user_choice}\")\n",
        "print(f\"Computer choose: {computer_choice}\")\n",
        "\n",
        "if user_choice == computer_choice:\n",
        "  print(\"It's a tie!\")\n",
        "\n",
        "elif (\n",
        " ( user_choice == \"rock\" and computer_choice == \"scissors\") or\n",
        "      (user_choice == \"paper\" and computer_choice == \"rock\") or\n",
        "      (user_choice == \"scissors\") and computer_choice == \"paper\"):\n",
        "  print(\"You Win!\")\n",
        "else:\n",
        "  print(\"Computer wins!\")"
      ]
    },
    {
      "cell_type": "code",
      "source": [
        "import random\n",
        "pc_choice=random.choice([\"rock\" ,\"paper\",\"scissors\"])\n",
        "user_choice= input(\"Enter your choice(rock, paper ,scissors):\")\n",
        "\n",
        "if user_choice == pc_choice:\n",
        "  print (\"tie\")\n",
        "elif (user_choice ==\"rock\"and\n",
        "  pc_choice == \"scissors\")\\\n",
        "or\\\n",
        "  (user_choice == \"paper\" and\n",
        "  pc_choice == \"rock\")\\\n",
        "or\\\n",
        "  (user_choice == \"scissors\" and\n",
        "  pc_choice == \"paper\"):\n",
        "  print()\n",
        "else:\n",
        "  print(\"Pc wins\")"
      ],
      "metadata": {
        "colab": {
          "base_uri": "https://localhost:8080/"
        },
        "id": "MstGLgN-1jPi",
        "outputId": "ca255a64-c443-4b17-fe7c-80829493f3df"
      },
      "execution_count": null,
      "outputs": [
        {
          "output_type": "stream",
          "name": "stdout",
          "text": [
            "Enter your choice(rock, paper ,scissors):rock\n",
            "Pc wins\n"
          ]
        }
      ]
    },
    {
      "cell_type": "code",
      "source": [
        "userInput = input(\"year: \")\n",
        "x= int(userInput)\n",
        "\n",
        "if (x%4 == 0 and x%100 != 0) or x%400==0:\n",
        "  print (\"leap year\")\n",
        "else :\n",
        "  print(\"no leap year\")"
      ],
      "metadata": {
        "colab": {
          "base_uri": "https://localhost:8080/"
        },
        "id": "HixCdutc349q",
        "outputId": "74655f85-ca15-444f-cfd5-f5dc56071cd7"
      },
      "execution_count": null,
      "outputs": [
        {
          "output_type": "stream",
          "name": "stdout",
          "text": [
            "year: 2004\n",
            "leap year\n"
          ]
        }
      ]
    }
  ]
}