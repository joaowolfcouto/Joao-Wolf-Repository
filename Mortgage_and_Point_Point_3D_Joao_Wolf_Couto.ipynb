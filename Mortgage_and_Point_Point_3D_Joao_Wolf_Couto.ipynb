{
  "nbformat": 4,
  "nbformat_minor": 0,
  "metadata": {
    "colab": {
      "provenance": [],
      "authorship_tag": "ABX9TyNlhVw+XIOa5WjExGzQ08lT",
      "include_colab_link": true
    },
    "kernelspec": {
      "name": "python3",
      "display_name": "Python 3"
    },
    "language_info": {
      "name": "python"
    }
  },
  "cells": [
    {
      "cell_type": "markdown",
      "metadata": {
        "id": "view-in-github",
        "colab_type": "text"
      },
      "source": [
        "<a href=\"https://colab.research.google.com/github/joaowolfcouto/Joao-Wolf-Repository/blob/main/Mortgage_and_Point_Point_3D_Joao_Wolf_Couto.ipynb\" target=\"_parent\"><img src=\"https://colab.research.google.com/assets/colab-badge.svg\" alt=\"Open In Colab\"/></a>"
      ]
    },
    {
      "cell_type": "markdown",
      "source": [
        "MORTGAGE:"
      ],
      "metadata": {
        "id": "8yJWULEvr8-Q"
      }
    },
    {
      "cell_type": "code",
      "execution_count": 4,
      "metadata": {
        "id": "R-fhMPQrrq-f"
      },
      "outputs": [],
      "source": [
        "class Mortgage:\n",
        "  def __init__(self, amount, maturity, interest):\n",
        "    self.amount = amount\n",
        "    self.maturity = maturity\n",
        "    self.__interest = interest\n",
        "\n",
        "  def __str__(self):\n",
        "    return f'Mortgage info:\\n Initial loan amount: {self.amount} $\\n Maturity term: {self.maturity} years\\n Interest rate: {self.__interest}%'\n",
        "\n",
        "  def get_interest(self):\n",
        "    return self.__interest\n",
        "\n",
        "  def set_interest(self, newInterest):\n",
        "    if newInterest >= 0:\n",
        "      self.__interest = newInterest\n",
        "    else:\n",
        "      print('Interest must be non-negative!')\n",
        "\n",
        "    def payment(self):\n",
        "      B = self.amount\n",
        "      r = self.__interest / 100\n",
        "      n = self.maturity * 12\n",
        "      return B * (r*(1+r)**n) / ((1+r)**n - 1)\n"
      ]
    },
    {
      "cell_type": "code",
      "source": [
        "m = Mortgage(100000, 45, 6)"
      ],
      "metadata": {
        "id": "yru2qCuRunK7"
      },
      "execution_count": 7,
      "outputs": []
    },
    {
      "cell_type": "code",
      "source": [
        "print(m)"
      ],
      "metadata": {
        "colab": {
          "base_uri": "https://localhost:8080/"
        },
        "id": "lFVPwZT-u4O4",
        "outputId": "479763ca-b9ce-4428-e035-d129becd2098"
      },
      "execution_count": 8,
      "outputs": [
        {
          "output_type": "stream",
          "name": "stdout",
          "text": [
            "Mortgage info:\n",
            " Initial loan amount: 100000 $\n",
            " Maturity term: 45 years\n",
            " Interest rate: 6%\n"
          ]
        }
      ]
    },
    {
      "cell_type": "markdown",
      "source": [
        "POINT/POINT 3D:"
      ],
      "metadata": {
        "id": "pzjMyy9fvGhb"
      }
    },
    {
      "cell_type": "code",
      "source": [
        "class Point:\n",
        "  def __init__(self, x, y):\n",
        "    self.x = x\n",
        "    self.y = y\n",
        "  def distance(self, other):\n",
        "    x_diff = (self.x - other.x) ** 2\n",
        "    y_diff = (self.y - other.y) ** 2\n",
        "    return (x_diff + y_diff) ** 0.5\n",
        "\n",
        "class Point3D(Point):\n",
        "  def __init__(self, x, y, z):\n",
        "    super().__init__(x, y)\n",
        "    self.z = z\n",
        "  def distance(self, other):\n",
        "    x_diff = (self.x - other.x) ** 2\n",
        "    y_diff = (self.y - other.y) ** 2\n",
        "    z_diff = (self.z - other.z) ** 2\n",
        "    return (x_diff + y_diff + z_diff) ** 0.5\n",
        "\n",
        "p1 = Point(3,4)\n",
        "p2 = Point(6,8)\n",
        "print(p1.distance(p2))\n",
        "p3 = Point3D(3,4,5)\n",
        "p4 = Point3D(6,8,10)\n",
        "print(p3.distance(p4))"
      ],
      "metadata": {
        "colab": {
          "base_uri": "https://localhost:8080/"
        },
        "id": "aQDdfUL0vFmn",
        "outputId": "63e1313e-edd6-458f-fca3-2489650a9da2"
      },
      "execution_count": 9,
      "outputs": [
        {
          "output_type": "stream",
          "name": "stdout",
          "text": [
            "5.0\n",
            "7.0710678118654755\n"
          ]
        }
      ]
    }
  ]
}