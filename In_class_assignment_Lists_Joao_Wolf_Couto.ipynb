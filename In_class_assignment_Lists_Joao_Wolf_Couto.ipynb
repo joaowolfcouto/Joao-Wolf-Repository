{
  "nbformat": 4,
  "nbformat_minor": 0,
  "metadata": {
    "colab": {
      "provenance": [],
      "include_colab_link": true
    },
    "kernelspec": {
      "name": "python3",
      "display_name": "Python 3"
    },
    "language_info": {
      "name": "python"
    }
  },
  "cells": [
    {
      "cell_type": "markdown",
      "metadata": {
        "id": "view-in-github",
        "colab_type": "text"
      },
      "source": [
        "<a href=\"https://colab.research.google.com/github/joaowolfcouto/Joao-Wolf-Repository/blob/main/In_class_assignment_Lists_Joao_Wolf_Couto.ipynb\" target=\"_parent\"><img src=\"https://colab.research.google.com/assets/colab-badge.svg\" alt=\"Open In Colab\"/></a>"
      ]
    },
    {
      "cell_type": "code",
      "execution_count": null,
      "metadata": {
        "colab": {
          "base_uri": "https://localhost:8080/"
        },
        "id": "TyUsc5y_A2EC",
        "outputId": "0ff77c25-c458-453a-84db-deaac6f8b28a"
      },
      "outputs": [
        {
          "output_type": "stream",
          "name": "stdout",
          "text": [
            "Enter a value: 3\n",
            "Enter a value: 7\n",
            "Enter a value: 8\n",
            "Enter a value: 1\n",
            "Enter a value: 0\n",
            "[3, 7, 8, 1]\n"
          ]
        },
        {
          "output_type": "execute_result",
          "data": {
            "text/plain": [
              "[1, 3, 7, 8]"
            ]
          },
          "metadata": {},
          "execution_count": 14
        }
      ],
      "source": [
        "L = []\n",
        "number = int(input('Enter a value: '))\n",
        "\n",
        "while number != 0:\n",
        "  L.append(number)\n",
        "  number = int(input('Enter a value: '))\n",
        "print(L)\n",
        "\n",
        "L.sort()\n",
        "L"
      ]
    },
    {
      "cell_type": "code",
      "source": [
        "L1=[1,2,3,4]\n",
        "L2=[1,2,5,6]\n",
        "\n",
        "for item in L1: #for loop that iterates every number in L1\n",
        "  if item in L2: #on every iteration checks for common items within two lists\n",
        "   L1.remove(item) #if it is true then remove if its in both\n",
        "\n",
        "L1 #in this loop, 2 is still in the list because when it goes back through the loop 2 takes the first position:\n",
        "\n",
        "#to avoid that from happening, need to.....\n",
        "\n",
        "L1=[1,2,3,4]\n",
        "L2=[1,2,5,6]\n",
        "\n",
        "for item in L1[:]:\n",
        "  if item in L2:\n",
        "    L1.remove(item)\n",
        "L1\n"
      ],
      "metadata": {
        "colab": {
          "base_uri": "https://localhost:8080/"
        },
        "id": "JY5tHSU7DGdA",
        "outputId": "fcd9db82-701c-4fae-aab8-d0854b0bd1fa"
      },
      "execution_count": null,
      "outputs": [
        {
          "output_type": "execute_result",
          "data": {
            "text/plain": [
              "[3, 4]"
            ]
          },
          "metadata": {},
          "execution_count": 20
        }
      ]
    },
    {
      "cell_type": "code",
      "source": [
        "L=[1,2,5,6,7]\n",
        "L[1]=3\n",
        "L"
      ],
      "metadata": {
        "id": "D8SlP1SV4urM",
        "outputId": "dd7a1e3f-50ff-43ad-941c-f2085eca9b31",
        "colab": {
          "base_uri": "https://localhost:8080/"
        }
      },
      "execution_count": null,
      "outputs": [
        {
          "output_type": "execute_result",
          "data": {
            "text/plain": [
              "[1, 3, 5, 6, 7]"
            ]
          },
          "metadata": {},
          "execution_count": 1
        }
      ]
    },
    {
      "cell_type": "code",
      "source": [
        "t=(1,'two',3.0) #touple : immutable list\n",
        "t\n"
      ],
      "metadata": {
        "colab": {
          "base_uri": "https://localhost:8080/"
        },
        "id": "2eHg4HsUJbN1",
        "outputId": "7ad958ce-93ad-4e26-8800-b7e9f3c6f011"
      },
      "execution_count": null,
      "outputs": [
        {
          "output_type": "execute_result",
          "data": {
            "text/plain": [
              "(1, 'two', 3.0)"
            ]
          },
          "metadata": {},
          "execution_count": 23
        }
      ]
    },
    {
      "cell_type": "code",
      "source": [
        "t + (3,4)"
      ],
      "metadata": {
        "id": "dAF3dEGCKCA-",
        "outputId": "403a3089-5223-413e-9a9a-6441f82a5d84",
        "colab": {
          "base_uri": "https://localhost:8080/"
        }
      },
      "execution_count": null,
      "outputs": [
        {
          "output_type": "execute_result",
          "data": {
            "text/plain": [
              "(1, 'two', 3.0, 3, 4)"
            ]
          },
          "metadata": {},
          "execution_count": 26
        }
      ]
    },
    {
      "cell_type": "code",
      "source": [],
      "metadata": {
        "id": "3z3oc10IO-Mr"
      },
      "execution_count": null,
      "outputs": []
    }
  ]
}