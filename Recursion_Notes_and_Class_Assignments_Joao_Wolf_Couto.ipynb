{
  "nbformat": 4,
  "nbformat_minor": 0,
  "metadata": {
    "colab": {
      "provenance": [],
      "include_colab_link": true
    },
    "kernelspec": {
      "name": "python3",
      "display_name": "Python 3"
    },
    "language_info": {
      "name": "python"
    }
  },
  "cells": [
    {
      "cell_type": "markdown",
      "metadata": {
        "id": "view-in-github",
        "colab_type": "text"
      },
      "source": [
        "<a href=\"https://colab.research.google.com/github/joaowolfcouto/Joao-Wolf-Repository/blob/main/Recursion_Notes_and_Class_Assignments_Joao_Wolf_Couto.ipynb\" target=\"_parent\"><img src=\"https://colab.research.google.com/assets/colab-badge.svg\" alt=\"Open In Colab\"/></a>"
      ]
    },
    {
      "cell_type": "code",
      "execution_count": null,
      "metadata": {
        "colab": {
          "base_uri": "https://localhost:8080/"
        },
        "id": "WuxCXSUwpnsD",
        "outputId": "8c96a273-e6d6-4533-a38b-0895c7810a93"
      },
      "outputs": [
        {
          "output_type": "stream",
          "name": "stdout",
          "text": [
            "5\n",
            "4\n",
            "3\n",
            "2\n",
            "1\n",
            "0\n"
          ]
        }
      ],
      "source": [
        "def countdown (n):\n",
        "  for i in range (n,-1,-1):\n",
        "    print(i)\n",
        "\n",
        "countdown (5)"
      ]
    },
    {
      "cell_type": "code",
      "source": [
        "def countdown (n):\n",
        "  while n>=0:\n",
        "    print(n)\n",
        "    n=n-1\n",
        "countdown(5)"
      ],
      "metadata": {
        "colab": {
          "base_uri": "https://localhost:8080/"
        },
        "id": "M96-XpuUp2IL",
        "outputId": "12f983b7-80f8-44e0-fc2d-6d4ff1081d13"
      },
      "execution_count": null,
      "outputs": [
        {
          "output_type": "stream",
          "name": "stdout",
          "text": [
            "5\n",
            "4\n",
            "3\n",
            "2\n",
            "1\n",
            "0\n"
          ]
        }
      ]
    },
    {
      "cell_type": "markdown",
      "source": [
        "# **Recursion **\n",
        "\n",
        "Base Case: trivialized version of the problem\n",
        "\n",
        "Inductive case: split the problem into smaller simpler versions of itself\n",
        "\n",
        "One applies to the base case and one applies to the inductive case\n"
      ],
      "metadata": {
        "id": "zReBKjBIqtI4"
      }
    },
    {
      "cell_type": "code",
      "source": [
        "#Countdown using recursion approach ; no iterations\n",
        "\n",
        "def recursive_countdown(n):\n",
        "  if n == 0: # base case\n",
        "    print(0)\n",
        "  else:\n",
        "    print(n)\n",
        "    recursive_countdown(n-1) #call of function\n",
        "\n",
        "recursive_countdown(5)\n",
        "\n",
        "#want to use conditionals instead of iterations\n",
        "# have a function,  simple if else conditional, one case for base case, one case\n",
        "#for inductive case - does not matter which one comes first"
      ],
      "metadata": {
        "colab": {
          "base_uri": "https://localhost:8080/"
        },
        "id": "DBkBNz-FqCMR",
        "outputId": "db56b0fe-3f9f-46f1-dd24-9ca3db507be3"
      },
      "execution_count": 2,
      "outputs": [
        {
          "output_type": "stream",
          "name": "stdout",
          "text": [
            "5\n",
            "4\n",
            "3\n",
            "2\n",
            "1\n",
            "0\n"
          ]
        }
      ]
    },
    {
      "cell_type": "markdown",
      "source": [
        "# **Summation Example: non-recursive **"
      ],
      "metadata": {
        "id": "qjPppOvWw2pX"
      }
    },
    {
      "cell_type": "code",
      "source": [
        "def summation(n):\n",
        "  s = 0\n",
        "  while n>=0:\n",
        "    s = s + n\n",
        "    n = n - 1\n",
        "  return s #need to return sum\n",
        "\n",
        "summation(3)\n",
        "\n",
        "\n"
      ],
      "metadata": {
        "colab": {
          "base_uri": "https://localhost:8080/"
        },
        "id": "AZOqL21QvFMp",
        "outputId": "76a4bb7b-3e60-4b51-b0f4-31baf0919e15"
      },
      "execution_count": 3,
      "outputs": [
        {
          "output_type": "execute_result",
          "data": {
            "text/plain": [
              "6"
            ]
          },
          "metadata": {},
          "execution_count": 3
        }
      ]
    },
    {
      "cell_type": "markdown",
      "source": [
        "# **Recursive Summation **"
      ],
      "metadata": {
        "id": "IMalGi2EzYOA"
      }
    },
    {
      "cell_type": "code",
      "source": [
        "def recursive_summation(n):\n",
        "  if n == 0:\n",
        "    return 0\n",
        "  else:\n",
        "    return n + recursive_summation(n-1)\n",
        "\n",
        "recursive_summation(2)\n"
      ],
      "metadata": {
        "colab": {
          "base_uri": "https://localhost:8080/"
        },
        "id": "ZhnZioAJxc0B",
        "outputId": "3b22a556-7a27-4e81-dc10-731c9baa545b"
      },
      "execution_count": null,
      "outputs": [
        {
          "output_type": "execute_result",
          "data": {
            "text/plain": [
              "3"
            ]
          },
          "metadata": {},
          "execution_count": 5
        }
      ]
    },
    {
      "cell_type": "markdown",
      "source": [
        "# **In class assignment: Use recursion for a factorial**\n"
      ],
      "metadata": {
        "id": "5kfiwVHjzupC"
      }
    },
    {
      "cell_type": "code",
      "source": [
        "def recursive_factorial(n):\n",
        "  if n <= 1: # or n == 1\n",
        "    return 1\n",
        "  else:\n",
        "    return n * recursive_factorial(n-1)\n",
        "\n",
        "recursive_factorial(6)"
      ],
      "metadata": {
        "colab": {
          "base_uri": "https://localhost:8080/"
        },
        "id": "V00KSg01z3Jo",
        "outputId": "90eaedd3-7a85-4315-abf8-7ffa1ef6dd3d"
      },
      "execution_count": 5,
      "outputs": [
        {
          "output_type": "execute_result",
          "data": {
            "text/plain": [
              "720"
            ]
          },
          "metadata": {},
          "execution_count": 5
        }
      ]
    },
    {
      "cell_type": "code",
      "source": [
        "def fact(n):\n",
        "  prod = 1\n",
        "  while n >= 1:\n",
        "    prod = prod * n\n",
        "    n = n - 1\n",
        "    return prod\n",
        "fact(1)"
      ],
      "metadata": {
        "colab": {
          "base_uri": "https://localhost:8080/"
        },
        "id": "TMSoGtg222LO",
        "outputId": "70951c0e-86d2-43cd-f846-faffbee75b60"
      },
      "execution_count": 6,
      "outputs": [
        {
          "output_type": "execute_result",
          "data": {
            "text/plain": [
              "1"
            ]
          },
          "metadata": {},
          "execution_count": 6
        }
      ]
    },
    {
      "cell_type": "markdown",
      "source": [
        "# **More than one base cases (Fibonacci sequence) **"
      ],
      "metadata": {
        "id": "3Runl-JH3Maq"
      }
    },
    {
      "cell_type": "code",
      "source": [
        "#Inductive case : n = f(n-1)+f(n-2)\n",
        "#Base case: n == 0 and n == 1\n",
        "\n",
        "def fibiR(n):\n",
        "  if n == 0 or n == 1:\n",
        "    return 1\n",
        "  else:\n",
        "    return fibiR(n-1) + fibiR(n-2)\n",
        "\n",
        "  for i in range(8):\n",
        "    print(fibiR(i), end =\" \")\n",
        "\n",
        "fibiR(7)"
      ],
      "metadata": {
        "colab": {
          "base_uri": "https://localhost:8080/"
        },
        "id": "4BQZ0HBz3Qy6",
        "outputId": "afa687d8-f028-4e66-973a-64daf70da0eb"
      },
      "execution_count": 13,
      "outputs": [
        {
          "output_type": "execute_result",
          "data": {
            "text/plain": [
              "21"
            ]
          },
          "metadata": {},
          "execution_count": 13
        }
      ]
    },
    {
      "cell_type": "code",
      "source": [
        "def fibR(n):\n",
        "  if n == 0 or n== 1:\n",
        "    return 1\n",
        "  else:\n",
        "    return fibR(n-1)+fibR(n-2)\n",
        "\n",
        "for i in range (6):\n",
        "  print(fibR(i), end=\" \")\n"
      ],
      "metadata": {
        "colab": {
          "base_uri": "https://localhost:8080/"
        },
        "id": "gTqlAotO-nFV",
        "outputId": "73e27759-08a4-40e4-c632-7847a546f8ad"
      },
      "execution_count": 15,
      "outputs": [
        {
          "output_type": "stream",
          "name": "stdout",
          "text": [
            "1 1 2 3 5 8 "
          ]
        }
      ]
    },
    {
      "cell_type": "markdown",
      "source": [
        "# **Recursive Function Assignment **"
      ],
      "metadata": {
        "id": "w9DXi0WKAlzW"
      }
    },
    {
      "cell_type": "code",
      "source": [
        "#f(\"Hello\") - \"mirror\"\n",
        "n=\"hello\"\n",
        "def recursive_hello(n):\n",
        "  if len(n) == 0:\n",
        "    return \" \"\n",
        "  else:\n",
        "    return n[-1] + recursive_hello(n[:-1]) + [n-1]\n",
        "    print(recursive_hello(n))\n",
        "\n",
        "\n"
      ],
      "metadata": {
        "id": "oCKFlKzKAusr"
      },
      "execution_count": 12,
      "outputs": []
    },
    {
      "cell_type": "code",
      "source": [
        "def mirrorString(s):\n",
        "  if len(s)==1:\n",
        "    return s\n",
        "  else:\n",
        "    return s[-1] +mirrorString(s[:-1])\n",
        "\n",
        "mirrorString(\"mike\")"
      ],
      "metadata": {
        "colab": {
          "base_uri": "https://localhost:8080/",
          "height": 37
        },
        "id": "U22YUTJ4FPME",
        "outputId": "66c8336a-df2f-4ca4-f47e-6a1af95ad09a"
      },
      "execution_count": 8,
      "outputs": [
        {
          "output_type": "execute_result",
          "data": {
            "text/plain": [
              "'ekim'"
            ],
            "application/vnd.google.colaboratory.intrinsic+json": {
              "type": "string"
            }
          },
          "metadata": {},
          "execution_count": 8
        }
      ]
    }
  ]
}