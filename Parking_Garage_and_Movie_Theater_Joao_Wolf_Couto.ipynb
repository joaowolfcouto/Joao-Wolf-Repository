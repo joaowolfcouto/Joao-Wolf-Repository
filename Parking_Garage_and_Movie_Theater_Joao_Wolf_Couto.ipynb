{
  "nbformat": 4,
  "nbformat_minor": 0,
  "metadata": {
    "colab": {
      "provenance": [],
      "authorship_tag": "ABX9TyM9huMTXPxMI1SttzrVehEp",
      "include_colab_link": true
    },
    "kernelspec": {
      "name": "python3",
      "display_name": "Python 3"
    },
    "language_info": {
      "name": "python"
    }
  },
  "cells": [
    {
      "cell_type": "markdown",
      "metadata": {
        "id": "view-in-github",
        "colab_type": "text"
      },
      "source": [
        "<a href=\"https://colab.research.google.com/github/joaowolfcouto/Joao-Wolf-Repository/blob/main/Parking_Garage_and_Movie_Theater_Joao_Wolf_Couto.ipynb\" target=\"_parent\"><img src=\"https://colab.research.google.com/assets/colab-badge.svg\" alt=\"Open In Colab\"/></a>"
      ]
    },
    {
      "cell_type": "markdown",
      "source": [
        "Parking Garage Problem:\n",
        "\n",
        "A parking garage charges 5 plus 2.50 for each hour parked. The minimum fee is 10 and the maximum fee is 20. Write a program that generates a table with the hours parked and the corresponding fee from 1 to 8 hours.\n",
        "\n",
        "\n"
      ],
      "metadata": {
        "id": "yHW2fzTWlRLn"
      }
    },
    {
      "cell_type": "code",
      "execution_count": 1,
      "metadata": {
        "colab": {
          "base_uri": "https://localhost:8080/"
        },
        "id": "WysO1dQxlCM4",
        "outputId": "1ea1dd51-c5ba-4b7f-a3f1-324dec31f4b2"
      },
      "outputs": [
        {
          "output_type": "stream",
          "name": "stdout",
          "text": [
            "1 $10.0\n",
            "2 $10.0\n",
            "3 $12.5\n",
            "4 $15.0\n",
            "5 $17.5\n",
            "6 $20.0\n",
            "7 $20.0\n",
            "8 $20.0\n"
          ]
        }
      ],
      "source": [
        "for hour in range(1,9):\n",
        "  fee = 5 + 2.5*hour\n",
        "  if fee<10:\n",
        "    fee = 10.0\n",
        "  elif fee>20:\n",
        "    fee = 20.0\n",
        "  print (f'{hour} ${fee}')"
      ]
    },
    {
      "cell_type": "markdown",
      "source": [
        " Movie Theater Problem:\n",
        "\n",
        "Each movie ticket is 10. Without advertising, 20 people are forecasted to attend. Additional people may attend based on advertising spending, estimated to be:\n",
        "additional attendees = 2 * round(advertisingDollars**0.5)\n",
        "fixed costs to run the theater are 200\n",
        "write a program to generate a table for different advertising amounts and profits."
      ],
      "metadata": {
        "id": "sTSrgFn3m_7Z"
      }
    },
    {
      "cell_type": "code",
      "source": [
        "print(f'Ad$ Profit')\n",
        "\n",
        "init_attendees = 20\n",
        "fixed_cost = 200\n",
        "\n",
        "for advertising in range(0, 201, 25):\n",
        "  attendees = float(2*round(advertising**0.5) + init_attendees)\n",
        "  profit = float((attendees * 10) - advertising - fixed_cost)\n",
        "  print(f'{advertising} ${profit}')"
      ],
      "metadata": {
        "colab": {
          "base_uri": "https://localhost:8080/"
        },
        "id": "DYpkG2M1nL4u",
        "outputId": "5b9ca669-e140-4931-b251-59ee73d888c0"
      },
      "execution_count": 2,
      "outputs": [
        {
          "output_type": "stream",
          "name": "stdout",
          "text": [
            "Ad$ Profit\n",
            "0 $0.0\n",
            "25 $75.0\n",
            "50 $90.0\n",
            "75 $105.0\n",
            "100 $100.0\n",
            "125 $95.0\n",
            "150 $90.0\n",
            "175 $85.0\n",
            "200 $80.0\n"
          ]
        }
      ]
    }
  ]
}