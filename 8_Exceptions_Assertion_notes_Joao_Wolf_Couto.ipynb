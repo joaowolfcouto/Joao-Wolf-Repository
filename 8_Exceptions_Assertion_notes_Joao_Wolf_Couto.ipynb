{
  "cells": [
    {
      "cell_type": "markdown",
      "metadata": {
        "id": "view-in-github",
        "colab_type": "text"
      },
      "source": [
        "<a href=\"https://colab.research.google.com/github/joaowolfcouto/Joao-Wolf-Repository/blob/main/8_Exceptions_Assertion_notes_Joao_Wolf_Couto.ipynb\" target=\"_parent\"><img src=\"https://colab.research.google.com/assets/colab-badge.svg\" alt=\"Open In Colab\"/></a>"
      ]
    },
    {
      "cell_type": "markdown",
      "metadata": {
        "id": "lORwbyaDCYXU"
      },
      "source": [
        "# Exceptions\n",
        "\n",
        "In this lecture, we will discuss another important concept in programming, **exception handling**.\n",
        "\n",
        "Exception handling is the key for developing solid and unbreakable programs. It is the process of responding to the occurrence of exceptions during the execution of the program.\n",
        "\n",
        "Before going to exceptions, however, we will see some very easy techniques we can use to *debug* our programs.\n",
        "- Debugging is the process of finding and fixing errors or bugs in the source code of any software.\n",
        "- While there are some advanced ways for doing this, we will focus on some basic approaches."
      ]
    },
    {
      "cell_type": "markdown",
      "metadata": {
        "id": "da4GGgZFCYXY"
      },
      "source": [
        "Let's see those basic approaches:\n",
        "\n",
        "- **Defensive Programming**\n",
        "  - Write specifications for functions using *triple-double* quotes `\"\"\"...\"\"\"`\n",
        "    * Remember that `\"\"\"...\"\"\"` is the way Python allows multi-line comments; usually are found within function/class definitions, describing what they do.\n",
        "  - Check conditions on inputs/outputs using *assertion*\n",
        "    * More on that later.\n",
        "- **Testing/Validation**\n",
        "  - Compare input/output pairs to specification.\n",
        "    * Are the outputs what is expected given the inputs?\n",
        "- **Debugging**\n",
        "  - Study events leading up to an error, and remove/change the parts that raise the error in the first place.\n"
      ]
    },
    {
      "cell_type": "code",
      "source": [
        "def func(arg1):\n",
        "  \"\"\"\n",
        "  This function does something\n",
        "  \"\"\"\n",
        "  return 0"
      ],
      "metadata": {
        "id": "Wnp2sQEWyZgk"
      },
      "execution_count": null,
      "outputs": []
    },
    {
      "cell_type": "code",
      "source": [
        "def add_num(a,b):\n",
        "  \"\"\"\n",
        "  Expects two numbers as inputs\n",
        "    a: Input 1\n",
        "    b: Input 2\n",
        "\n",
        "  Output: The sum of a and b\n",
        "  \"\"\"\n",
        "  return a+b"
      ],
      "metadata": {
        "id": "CBQHSBNQIwHD"
      },
      "execution_count": null,
      "outputs": []
    },
    {
      "cell_type": "code",
      "source": [
        "from functions import add_num\n",
        "\n",
        "print(add_num())"
      ],
      "metadata": {
        "id": "2koBRNjqTxS9"
      },
      "execution_count": null,
      "outputs": []
    },
    {
      "cell_type": "markdown",
      "metadata": {
        "id": "Eo-KWtK1CYXZ"
      },
      "source": [
        "### Work smartly\n",
        "\n",
        "- From the very beginning, we design our code to allow easy debugging:\n",
        "     * **Example:** Break program up into sub-modules that can be tested and debugged *individually* (e.g., functions)\n",
        "- Document constraints on modules using comments:\n",
        "     * *What do you expect the input to be?*\n",
        "     * *What do you expect the output to be?*\n",
        "- Document assumptions behind code design; that way it will be easier to spot the error.\n",
        "\n",
        "**Are you ready to test your code?**\n",
        "\n",
        "- Ensure our code runs by:\n",
        "     * removing syntax errors (easy).\n",
        "      * Python interpreter can usually find these for you\n",
        "     * removing static semantic errors (more challenging).\n",
        "- Have a set of expected results at hand:\n",
        "     * for each set of inputs, compare the outputs with the expected outputs."
      ]
    },
    {
      "cell_type": "markdown",
      "metadata": {
        "id": "QO-c2kvgCYXa"
      },
      "source": [
        "## Testing approaches\n",
        "\n",
        "Provide intuition about natural boundaries to the problem:\n",
        "\n",
        "```python\n",
        "def is_bigger(x, y):\n",
        "    \"\"\"\n",
        "    - Assumes x and y are integers\n",
        "    - Returns True if y is less than x, else False\n",
        "    \"\"\"\n",
        "```\n",
        "\n",
        "### Debugging\n",
        "\n",
        "It entails a steep learning curve.\n",
        "\n",
        "**Goal:** bug-free program.\n",
        "\n",
        "<u>Tools we can use:</u>\n",
        "- built-in in Colab (*red wiggly underline*).\n",
        "- Python Tutor (already saw that).\n",
        "- `print` statements."
      ]
    },
    {
      "cell_type": "markdown",
      "metadata": {
        "id": "DPwjQpKECYXa"
      },
      "source": [
        "### `Print` statements\n",
        "\n",
        "Good way to test hypothesis!\n",
        "\n",
        "When to print:\n",
        "- At the beginning of the function (does it get correct arguments or not?)\n",
        "- Checking parameters (were they assigned correct values?)\n",
        "- Function results (does the function return anything? if yes, what exactly does the function return?)\n",
        "\n",
        "\n",
        "**Potential idea:** *bisect* your code (unrelated to bisection method we saw before):\n",
        "- Insert `print` statements halfway in your code, make sure that everything up to that point works as expected.\n",
        "  * If yes, the problem is on the lower-half of the program; otherwise it's on the upper-half.\n",
        "  * Whichever it is, repeat the process at either the lower- or upper-half.\n",
        "  * In other words, perform a manual *recursive* process.\n"
      ]
    },
    {
      "cell_type": "markdown",
      "metadata": {
        "id": "_dACsfR0CYXb"
      },
      "source": [
        "### But what is exactly an exception?\n",
        "\n",
        "Python interpreter provides error messages for every possible occasion:\n",
        "\n",
        "1) Trying to access beyond the limits of a list\n",
        "```python\n",
        "    test = [1,2,3]\n",
        "    test[4] # IndexError\n",
        "```\n",
        "2) Trying to convert an inappropriate type\n",
        "```python\n",
        "int(test) # TypeError\n",
        "```\n",
        "3) Referencing a non-existent variable\n",
        "```python\n",
        "    a # NameError\n",
        "```\n",
        "4) Mixing data types without appropriate coercion\n",
        "```python\n",
        "    '3'/4 # TypeError\n",
        "```\n",
        "5) Forgetting to close parenthesis, quotation, etc.\n",
        "```python\n",
        "    a = len([1,2,3]\n",
        "    print(a) # SyntaxError\n",
        "```\n",
        "\n",
        "All those errors are called **Exception errors**."
      ]
    },
    {
      "cell_type": "markdown",
      "metadata": {
        "id": "oaVB991aCYXc"
      },
      "source": [
        "## Difference between Exception and Syntax Error\n",
        "\n",
        "In Python, a program stops execution when it encounters an error.\n",
        "\n",
        "The process of managing these situations is called Exception Handling.\n",
        "\n",
        "There are two types of errors in Python:\n",
        "- Syntax errors (design-time error)\n",
        "- Exception errors (run-time error)\n",
        "\n",
        "**Syntax Error (design-time error):**\n",
        "- If the code we write doesn't comply with Python syntax, the parser will raise `Syntax Error`, meaning that something we wrote is not suitable for Python.\n",
        "- Syntax Errors are easy to see and fix. As soon as we write the code, we can see them.\n",
        "- That is not, however, the case with Exceptions.\n",
        "\n",
        "\n",
        "**Exception:**\n",
        "- If the code we wrote is syntactically correct, but after starting its execution (run-time) an unexpected situation (error) arises, the interpreter will raise an error.\n",
        "- That is an *Exception Error*.\n",
        "\n",
        "No matter how hard we try to make our code bug-free, at sme points there might be errors.\n",
        "\n",
        "In that case, we have to handle them properly to prevent our program from crashing.\n",
        "- We have to *raise* appropriate exceptions and decide what to do with them and how to fix them.\n",
        "\n",
        "### Why should you use Exceptions?\n",
        "Reasons for using exceptions in Python:\n",
        "\n",
        "- Exception handling allows separation of error-handling code from normal code.\n",
        "- Exceptions are Python objects representing a class of errors.\n",
        "- Exceptions help to remind program expectations.\n",
        "- Convenient method for handling error messages.\n",
        "- Raising an exception breaks the current code execution, returns the exception until it is handled (more on that later).\n",
        "\n",
        "\n",
        "Common exception error examples:\n",
        "- Division by Zero (`ZeroDivisionError`)\n",
        "- Accessing a file which does not exist (`IOError`).\n",
        "- Addition of two incompatible types (`TypeError`).\n",
        "- Trying to access a nonexistent index of a sequence (`IndexError`).\n",
        "- ATM withdrawal of more than the available amount (`ValueError`).\n",
        "\n",
        "#### Advantage of exception handling over conditionals\n",
        "\n",
        "Exceptions are used to handle system generated errors, as well as for checking conditions\n",
        "- Conditionals are only used for checking conditions; unable to handle exceptions or system generated errors.\n",
        "\n",
        "Exception statements work faster than conditional statements when the possibilty of an exception is very low."
      ]
    },
    {
      "cell_type": "markdown",
      "metadata": {
        "id": "_qTL5gVmCYXd"
      },
      "source": [
        "### Types of exceptions\n",
        "\n",
        "- `SyntaxError`: Python can’t parse program\n",
        "- `NameError`: local or global name not found\n",
        "- `AttributeError`: attribute reference fails\n",
        "- `TypeError`: operand doesn’t have correct type\n",
        "- `ValueError`: operand type okay, but value is illegal\n",
        "- `ZeroDivisionError`: trying to divide with zero\n",
        "-`RunTimeError`:  a program that passed the interpreter's syntax checks and started to execute, but the execution stops due to unforseen error(s)\n",
        "- `IOError`: IO system reports malfunction (e.g. file not found)"
      ]
    },
    {
      "cell_type": "code",
      "source": [
        "a = int(input(\"Give value: \"))\n",
        "b = int(input(\"Give another value: \"))\n",
        "print(a/b)"
      ],
      "metadata": {
        "id": "7YBXYt_VUCOd",
        "colab": {
          "base_uri": "https://localhost:8080/",
          "height": 251
        },
        "outputId": "175a159a-fa15-4ff7-807c-3cb912706c9b"
      },
      "execution_count": null,
      "outputs": [
        {
          "name": "stdout",
          "output_type": "stream",
          "text": [
            "Give value: 5\n",
            "Give another value: 0\n"
          ]
        },
        {
          "output_type": "error",
          "ename": "ZeroDivisionError",
          "evalue": "ignored",
          "traceback": [
            "\u001b[0;31m---------------------------------------------------------------------------\u001b[0m",
            "\u001b[0;31mZeroDivisionError\u001b[0m                         Traceback (most recent call last)",
            "\u001b[0;32m<ipython-input-3-2e89069a7833>\u001b[0m in \u001b[0;36m<cell line: 3>\u001b[0;34m()\u001b[0m\n\u001b[1;32m      1\u001b[0m \u001b[0ma\u001b[0m \u001b[0;34m=\u001b[0m \u001b[0mint\u001b[0m\u001b[0;34m(\u001b[0m\u001b[0minput\u001b[0m\u001b[0;34m(\u001b[0m\u001b[0;34m\"Give value: \"\u001b[0m\u001b[0;34m)\u001b[0m\u001b[0;34m)\u001b[0m\u001b[0;34m\u001b[0m\u001b[0;34m\u001b[0m\u001b[0m\n\u001b[1;32m      2\u001b[0m \u001b[0mb\u001b[0m \u001b[0;34m=\u001b[0m \u001b[0mint\u001b[0m\u001b[0;34m(\u001b[0m\u001b[0minput\u001b[0m\u001b[0;34m(\u001b[0m\u001b[0;34m\"Give another value: \"\u001b[0m\u001b[0;34m)\u001b[0m\u001b[0;34m)\u001b[0m\u001b[0;34m\u001b[0m\u001b[0;34m\u001b[0m\u001b[0m\n\u001b[0;32m----> 3\u001b[0;31m \u001b[0mprint\u001b[0m\u001b[0;34m(\u001b[0m\u001b[0ma\u001b[0m\u001b[0;34m/\u001b[0m\u001b[0mb\u001b[0m\u001b[0;34m)\u001b[0m\u001b[0;34m\u001b[0m\u001b[0;34m\u001b[0m\u001b[0m\n\u001b[0m",
            "\u001b[0;31mZeroDivisionError\u001b[0m: division by zero"
          ]
        }
      ]
    },
    {
      "cell_type": "markdown",
      "source": [
        "### `try-except`\n",
        "\n",
        "Here we will learn the basic struture for handling exceptions in Python.\n",
        "\n",
        "The `try-except` block in Python is used to catch and handle exceptions:\n",
        "\n",
        "```python\n",
        "try:\n",
        "  statements that may produce errors\n",
        "  will not be executed\n",
        "except:\n",
        "  ...\n",
        "```\n",
        "\n",
        "The pseudocode above shows the basic structure of a `try-except` block. Here is the execution flow:\n",
        "- Python runs the code in the `try` block.\n",
        "- If it encounters an error (exception), the code execution will jump to the `except` block.\n",
        "- Any line in the `try` block which is under the error line will **not** be executed.\n",
        "- If no exception occurs, the `except` clause is skipped and execution of the `try` statement is finished.\n",
        "\n",
        "The `except` block is where we **catch** the exceptions, and the necessary actions in case of an exception are in the `except` block.\n",
        "\n",
        "Let's see an example:"
      ],
      "metadata": {
        "id": "7rTTbgpzLoNA"
      }
    },
    {
      "cell_type": "code",
      "source": [
        "try:\n",
        "  a = int(input(\"Give value \"))\n",
        "  b = int(input(\"Give value \"))\n",
        "  print(a/b)\n",
        "except:\n",
        "  print(\"Error\")\n",
        "c = \"Hi\"\n",
        "print(c)"
      ],
      "metadata": {
        "id": "0Qfkgem5GVNJ",
        "colab": {
          "base_uri": "https://localhost:8080/"
        },
        "outputId": "cfbd1ae0-03c2-4cf2-c8fc-93844bb7abd6"
      },
      "execution_count": null,
      "outputs": [
        {
          "output_type": "stream",
          "name": "stdout",
          "text": [
            "Give value jhgkj\n",
            "Error\n",
            "Hi\n"
          ]
        }
      ]
    },
    {
      "cell_type": "markdown",
      "source": [
        "#### Multiple except blocks\n",
        "\n",
        "An `except` block is where we catch exceptions and take necessary actions.\n",
        "\n",
        "But, what if we need different actions based on the types of exceptions?\n",
        "\n",
        "**No problem!** We can do this simply by using multiple `except` blocks:\n",
        "\n",
        "```python\n",
        "try:\n",
        "  ...\n",
        "  ...\n",
        "  error\n",
        "  ...\n",
        "except Exception_type_1:\n",
        "  actions for type 1\n",
        "except Exception_type_2:\n",
        "  actions for type 2\n",
        "...\n",
        "```\n",
        "\n",
        "Below, we expand the previous example and show different types of exception handling:"
      ],
      "metadata": {
        "id": "BteA35cHNTnI"
      }
    },
    {
      "cell_type": "code",
      "source": [
        "try:\n",
        "  a = input(\"Tell me one number:\")\n",
        "  b = input(\"Tell me another number:\")\n",
        "  print(int(a)/int(b))\n",
        "  c = a+b\n",
        "  print(c)\n",
        "except ZeroDivisionError:\n",
        "  print(\"Division by zero\")\n",
        "except ValueError:\n",
        "  print(\"Incompatible types\")\n",
        "except:\n",
        "  print(\"Unknown error occurred\")"
      ],
      "metadata": {
        "id": "b9DcqM9D7_hz",
        "colab": {
          "base_uri": "https://localhost:8080/"
        },
        "outputId": "b2bfa3d2-ca6e-4e30-f759-ed686eb95b8a"
      },
      "execution_count": null,
      "outputs": [
        {
          "output_type": "stream",
          "name": "stdout",
          "text": [
            "Tell me one number:5.2\n",
            "Tell me another number:2\n",
            "Incompatible types\n"
          ]
        }
      ]
    },
    {
      "cell_type": "markdown",
      "source": [
        "#### `else`\n",
        "\n",
        "The `try-except` statement has an optional `else` clause, which, when present, **must follow** all `except` clauses.\n",
        "\n",
        "It is useful for code that must be executed if the `try` clause does **not** raise an exception.\n",
        "- That is, if the `try` block runs successfully, then the `else` block will be executed.\n",
        "\n",
        "```python\n",
        "try:\n",
        "  ...\n",
        "  ...\n",
        "  ...\n",
        "except Ex1:\n",
        "  ...\n",
        "except Ex2:\n",
        "  ...\n",
        "else:\n",
        "  ...\n",
        "  no errors\n",
        "```\n",
        "\n",
        "The interpreter runs the code in `try` block. If there is an error, the execution goes into the appropriate `except` block. Otherwise, it will move on to the `else` block."
      ],
      "metadata": {
        "id": "rwzTK3kyObzv"
      }
    },
    {
      "cell_type": "code",
      "source": [
        "try:\n",
        "  a = input(\"Tell me one number:\")\n",
        "  b = input(\"Tell me another number:\")\n",
        "  print(int(a)/int(b))\n",
        "  c = a+b\n",
        "  print(c)\n",
        "except ZeroDivisionError:\n",
        "  print(\"Division by zero\")\n",
        "except ValueError:\n",
        "  print(\"Incompatible types\")\n",
        "except:\n",
        "  print(\"Unknown error occurred\")\n",
        "else:\n",
        "  print(\"Everything went well\")"
      ],
      "metadata": {
        "id": "y5_bcVyXPU5d",
        "colab": {
          "base_uri": "https://localhost:8080/"
        },
        "outputId": "ff0cc590-bd78-473f-8c03-0d66b9f0dd6f"
      },
      "execution_count": null,
      "outputs": [
        {
          "output_type": "stream",
          "name": "stdout",
          "text": [
            "Tell me one number:5\n",
            "Tell me another number:0\n",
            "Division by zero\n"
          ]
        }
      ]
    },
    {
      "cell_type": "markdown",
      "source": [
        "#### `finally`\n",
        "\n",
        "The `try` statement has another optional clause, `finally`.\n",
        "\n",
        "The `finally` keyword is intended to define clean-up actions that must be executed **under all circumstances**.\n",
        "- E.g., closing an open file, or releasing a resource before finalizing the `try` block.\n",
        "\n",
        "If a `finally` clause is present in the `try` block, it will execute as teh last task before the `try` statement completes.\n",
        "\n",
        "The `finally` clause runs whether or not the `try` statement produces an exception.\n",
        "\n",
        "```python\n",
        "try:\n",
        "  ...\n",
        "  ...\n",
        "  ...\n",
        "except Ex1:\n",
        "  ...\n",
        "  ...\n",
        "except Ex2:\n",
        "  ...\n",
        "  ...\n",
        "else:\n",
        "  ...\n",
        "  no errors\n",
        "finally:\n",
        "  runs whether an error occurs or not\n",
        "```\n"
      ],
      "metadata": {
        "id": "KfENWmjkPW6W"
      }
    },
    {
      "cell_type": "code",
      "source": [
        "try:\n",
        "  a = input(\"Tell me one number:\")\n",
        "  b = input(\"Tell me another number:\")\n",
        "  print(int(a)/int(b))\n",
        "  c = a+b\n",
        "  print(c)\n",
        "except ZeroDivisionError:\n",
        "  print(\"Division by zero\")\n",
        "except ValueError:\n",
        "  print(\"Incompatible types\")\n",
        "except:\n",
        "  print(\"Unknown error occurred\")\n",
        "else:\n",
        "  print(\"Everything went well\")\n",
        "finally:\n",
        "  print(\"This runs always\")"
      ],
      "metadata": {
        "id": "esCyKeJzQLYt",
        "colab": {
          "base_uri": "https://localhost:8080/"
        },
        "outputId": "0a8bcb94-089f-4b3d-a7e8-d88ac438d67a"
      },
      "execution_count": null,
      "outputs": [
        {
          "output_type": "stream",
          "name": "stdout",
          "text": [
            "Tell me one number:5\n",
            "Tell me another number:0\n",
            "Division by zero\n",
            "This runs always\n"
          ]
        }
      ]
    },
    {
      "cell_type": "markdown",
      "metadata": {
        "id": "fQ768f4BCYXe"
      },
      "source": [
        "**Comments on `try-except-else-finally`**\n",
        "\n",
        "Again showing how exception handling works:\n",
        "- First, the `try` clause is executed.\n",
        "  * If no exception occurs, the `except` clause is skipped and execution of the `try` statement is finished.\n",
        "  * If an exception occurs during execution of the `try` clause, the rest of the clause is skipped.\n",
        "    - If its type matches the exception named after the `except` keyword, the `except` clause is executed, and the execution continues after the `try/except` block.\n",
        "    - If an exception occurs which does not match the exception named in the `except` clause, it is passed on to outer try statements; if no handler is found, it is an *unhandled exception* and execution stops with a message.\n",
        "\n",
        "Exceptions (i.e., coding errors) raised by any statement in body of `try` are handled by the `except` statement and execution continues\n",
        "with the body of the `except` statement\n",
        "\n",
        "*Clean-up actions:*\n",
        "- `else`:\n",
        "    * Optional clause in the `try … except` statement\n",
        "      - When present, must follow all *except clauses*.\n",
        "      - It is useful for code that must be executed if the `try` clause does not raise an exception.\n",
        "- `finally`:\n",
        "     * Another optional clause which is intended to define clean-up actions that must be executed under all circumstances\n",
        "      - If a `finally` clause is present, it will execute as the **last task** before the `try` statement completes.\n",
        "      - The finally clause runs whether or not the `try` statement produces an exception."
      ]
    },
    {
      "cell_type": "code",
      "source": [
        "def divide(x, y):\n",
        "  try:\n",
        "      c = x / y\n",
        "  except ZeroDivisionError:\n",
        "      print(\"division by zero!\")\n",
        "      return float('nan')\n",
        "  except TypeError:\n",
        "      print(\"Incompatible types\")\n",
        "      return float('nan')\n",
        "  else:\n",
        "      print(\"Everything worked\")\n",
        "      return c\n",
        "  finally:\n",
        "      print(\"executing finally clause\")\n",
        "\n",
        "a = 1\n",
        "b = 0\n",
        "divide(a,b)"
      ],
      "metadata": {
        "id": "o2upaX2bi6wW",
        "colab": {
          "base_uri": "https://localhost:8080/"
        },
        "outputId": "ce589d24-e839-43ed-a505-70748663461d"
      },
      "execution_count": null,
      "outputs": [
        {
          "output_type": "stream",
          "name": "stdout",
          "text": [
            "division by zero!\n",
            "executing finally clause\n"
          ]
        },
        {
          "output_type": "execute_result",
          "data": {
            "text/plain": [
              "nan"
            ]
          },
          "metadata": {},
          "execution_count": 3
        }
      ]
    },
    {
      "cell_type": "markdown",
      "metadata": {
        "id": "CJ4EJVo7CYXf"
      },
      "source": [
        "## `raise`\n",
        "\n",
        "Appropriate exceptions will help you to debug our code more easily. Moreover it will let other applications, who call the code, to understand what happened.\n",
        "\n",
        "To raise an exception in Python, we use the `raise` keyword.\n",
        "\n",
        "`raise` allows a programmer to force a specified exception to occur:\n",
        "\n",
        "```python\n",
        "raise <exceptionName>(<arguments>)\n",
        "```\n",
        "\n",
        "<u>Example:</u>\n",
        "```python\n",
        "def raise_exception():\n",
        "  # ask for user input\n",
        "  user_input = input('Please enter an integer:')\n",
        "\n",
        "  if not user_input.isdigit():\n",
        "    raise ValueError(\"Not a number...\")\n",
        "\n",
        "  num = int(user_input)\n",
        "  print(num)\n",
        "```\n",
        "**Note:** `isdigit()` is a string method that returns `True` if all characters in the string are digits, `False` otherwise.\n",
        "- As we said before, string methods are not part of the course, no need to remember or use `isdigit()` anywhere.\n",
        "\n",
        "The sole argument to `raise` indicates the exception to be raised.\n",
        "- Either an exception instance or an exception class.\n",
        "\n",
        "\n",
        "**Note 2:** When an error is raised via the `raise` keyword, the program execution **stops** there and the interpreter returns the message we provided within the parenthesis. Any lines following that part will be ignored.\n",
        "\n",
        "So, unlike `try-except` where the code terminates normally, that is not the case with `raise`."
      ]
    },
    {
      "cell_type": "code",
      "source": [
        "a = int(input(\"Enter number:\"))\n",
        "b = int(input(\"Enter another: \"))\n",
        "if b == 0:\n",
        "  raise ZeroDivisionError(\"Cannot divide by 0\")\n",
        "\n",
        "print(a / b)"
      ],
      "metadata": {
        "id": "TCVlBNhULge5",
        "colab": {
          "base_uri": "https://localhost:8080/",
          "height": 280
        },
        "outputId": "fdbf4f4e-152e-43d9-bf16-e12420bc1dea"
      },
      "execution_count": null,
      "outputs": [
        {
          "name": "stdout",
          "output_type": "stream",
          "text": [
            "Enter number:5\n",
            "Enter another: 0\n"
          ]
        },
        {
          "output_type": "error",
          "ename": "ZeroDivisionError",
          "evalue": "ignored",
          "traceback": [
            "\u001b[0;31m---------------------------------------------------------------------------\u001b[0m",
            "\u001b[0;31mZeroDivisionError\u001b[0m                         Traceback (most recent call last)",
            "\u001b[0;32m<ipython-input-3-66691f08be09>\u001b[0m in \u001b[0;36m<cell line: 3>\u001b[0;34m()\u001b[0m\n\u001b[1;32m      2\u001b[0m \u001b[0mb\u001b[0m \u001b[0;34m=\u001b[0m \u001b[0mint\u001b[0m\u001b[0;34m(\u001b[0m\u001b[0minput\u001b[0m\u001b[0;34m(\u001b[0m\u001b[0;34m\"Enter another: \"\u001b[0m\u001b[0;34m)\u001b[0m\u001b[0;34m)\u001b[0m\u001b[0;34m\u001b[0m\u001b[0;34m\u001b[0m\u001b[0m\n\u001b[1;32m      3\u001b[0m \u001b[0;32mif\u001b[0m \u001b[0mb\u001b[0m \u001b[0;34m==\u001b[0m \u001b[0;36m0\u001b[0m\u001b[0;34m:\u001b[0m\u001b[0;34m\u001b[0m\u001b[0;34m\u001b[0m\u001b[0m\n\u001b[0;32m----> 4\u001b[0;31m   \u001b[0;32mraise\u001b[0m \u001b[0mZeroDivisionError\u001b[0m\u001b[0;34m(\u001b[0m\u001b[0;34m\"Cannot divide by 0\"\u001b[0m\u001b[0;34m)\u001b[0m\u001b[0;34m\u001b[0m\u001b[0;34m\u001b[0m\u001b[0m\n\u001b[0m\u001b[1;32m      5\u001b[0m \u001b[0;34m\u001b[0m\u001b[0m\n\u001b[1;32m      6\u001b[0m \u001b[0mprint\u001b[0m\u001b[0;34m(\u001b[0m\u001b[0ma\u001b[0m \u001b[0;34m/\u001b[0m \u001b[0mb\u001b[0m\u001b[0;34m)\u001b[0m\u001b[0;34m\u001b[0m\u001b[0;34m\u001b[0m\u001b[0m\n",
            "\u001b[0;31mZeroDivisionError\u001b[0m: Cannot divide by 0"
          ]
        }
      ]
    },
    {
      "cell_type": "markdown",
      "source": [
        "In the example above, `raise` was given as a block of code associated with an `if` clause.\n",
        "\n",
        "However, `raise` statements can be used in a variety of ways, including from within `try-except` clauses:"
      ],
      "metadata": {
        "id": "YjoD_M7eWuU2"
      }
    },
    {
      "cell_type": "code",
      "source": [
        "def get_ratios(L1, L2):\n",
        "    \"\"\" Assumes: L1 and L2 are lists of equal length of numbers\n",
        "    Returns: a list containing L1[i]/L2[i] \"\"\"\n",
        "    ratios = []\n",
        "    for index in range(len(L1)):\n",
        "        try:\n",
        "            ratios.append(L1[index]/L2[index])\n",
        "        except ZeroDivisionError:\n",
        "            ratios.append(float('nan')) #nan = not a number\n",
        "        except:\n",
        "            raise TypeError('get_ratios called with bad arg')\n",
        "    return ratios\n",
        "\n",
        "L1 = [1, 2, 3]\n",
        "L2 = [2, 4, 6]\n",
        "get_ratios(L1, L2)"
      ],
      "metadata": {
        "id": "AWVb18W9nS_m",
        "colab": {
          "base_uri": "https://localhost:8080/"
        },
        "outputId": "c7b46454-c007-4ab9-a13a-720f14b6cfe2"
      },
      "execution_count": null,
      "outputs": [
        {
          "output_type": "execute_result",
          "data": {
            "text/plain": [
              "[0.5, 0.5, 0.5]"
            ]
          },
          "metadata": {},
          "execution_count": 9
        }
      ]
    },
    {
      "cell_type": "markdown",
      "metadata": {
        "id": "SrG7EyaECYXf"
      },
      "source": [
        "### More examples\n",
        "\n",
        "Assume we are given a class list for a subject: each entry is a list of two parts\n",
        "- a list of first and last name for a student\n",
        "- a list of grades on assignments\n",
        "\n",
        "```python\n",
        "test_grades = [[['peter', 'parker'], [80.0, 70.0, 85.0]],\n",
        "              [['bruce', 'wayne'], [100.0, 80.0, 74.0]]]\n",
        "```\n",
        "\n",
        "Goal: Create a new class list, with name, grades, and an average\n",
        "\n",
        "```python\n",
        "[[['peter', 'parker'], [80.0, 70.0, 85.0], 78.33333],\n",
        "[['bruce', 'wayne'], [100.0, 80.0, 74.0], 84.666667]]\n",
        "```"
      ]
    },
    {
      "cell_type": "markdown",
      "metadata": {
        "id": "t7WyuJ1bCYXg"
      },
      "source": [
        "#### Example code:\n",
        "\n",
        "```python\n",
        "def get_stats(class_list):\n",
        "    new_stats = []\n",
        "    for elt in class_list:\n",
        "        new_stats.append([elt[0], elt[1], avg(elt[1])])\n",
        "    return new_stats\n",
        "\n",
        "def avg(grades):\n",
        "    return sum(grades)/len(grades)\n",
        "```\n",
        "\n",
        "As we see, this program is very likely to produce an exception error, and it is not yet equipped to handle it properly.\n",
        "\n",
        "Let's try it"
      ]
    },
    {
      "cell_type": "code",
      "source": [
        "def get_stats(class_list):\n",
        "    new_stats = []\n",
        "    for elt in class_list:\n",
        "        new_stats.append([elt[0], elt[1], avg(elt[1])])\n",
        "    return new_stats\n",
        "\n",
        "\n",
        "def avg(grades):\n",
        "    return sum(grades)/len(grades)\n",
        "\n",
        "test_grades = [[['peter', 'parker'], [10.0, 5.0, 85.0]],\n",
        "              [['bruce', 'wayne'], [10.0, 8.0, 74.0]],\n",
        "              [['captain', 'america'], [8.0,10.0,96.0]],\n",
        "              [['deadpool'], []]]\n",
        "\n",
        "get_stats(test_grades)"
      ],
      "metadata": {
        "id": "j_Tj7Mt2zt3F",
        "colab": {
          "base_uri": "https://localhost:8080/",
          "height": 356
        },
        "outputId": "148ba6b2-c42c-407b-9c5c-f1cf3fb6e33f"
      },
      "execution_count": null,
      "outputs": [
        {
          "output_type": "error",
          "ename": "ZeroDivisionError",
          "evalue": "ignored",
          "traceback": [
            "\u001b[0;31m---------------------------------------------------------------------------\u001b[0m",
            "\u001b[0;31mZeroDivisionError\u001b[0m                         Traceback (most recent call last)",
            "\u001b[0;32m<ipython-input-1-10515571c9b7>\u001b[0m in \u001b[0;36m<cell line: 16>\u001b[0;34m()\u001b[0m\n\u001b[1;32m     14\u001b[0m               [['deadpool'], []]]\n\u001b[1;32m     15\u001b[0m \u001b[0;34m\u001b[0m\u001b[0m\n\u001b[0;32m---> 16\u001b[0;31m \u001b[0mget_stats\u001b[0m\u001b[0;34m(\u001b[0m\u001b[0mtest_grades\u001b[0m\u001b[0;34m)\u001b[0m\u001b[0;34m\u001b[0m\u001b[0;34m\u001b[0m\u001b[0m\n\u001b[0m",
            "\u001b[0;32m<ipython-input-1-10515571c9b7>\u001b[0m in \u001b[0;36mget_stats\u001b[0;34m(class_list)\u001b[0m\n\u001b[1;32m      2\u001b[0m     \u001b[0mnew_stats\u001b[0m \u001b[0;34m=\u001b[0m \u001b[0;34m[\u001b[0m\u001b[0;34m]\u001b[0m\u001b[0;34m\u001b[0m\u001b[0;34m\u001b[0m\u001b[0m\n\u001b[1;32m      3\u001b[0m     \u001b[0;32mfor\u001b[0m \u001b[0melt\u001b[0m \u001b[0;32min\u001b[0m \u001b[0mclass_list\u001b[0m\u001b[0;34m:\u001b[0m\u001b[0;34m\u001b[0m\u001b[0;34m\u001b[0m\u001b[0m\n\u001b[0;32m----> 4\u001b[0;31m         \u001b[0mnew_stats\u001b[0m\u001b[0;34m.\u001b[0m\u001b[0mappend\u001b[0m\u001b[0;34m(\u001b[0m\u001b[0;34m[\u001b[0m\u001b[0melt\u001b[0m\u001b[0;34m[\u001b[0m\u001b[0;36m0\u001b[0m\u001b[0;34m]\u001b[0m\u001b[0;34m,\u001b[0m \u001b[0melt\u001b[0m\u001b[0;34m[\u001b[0m\u001b[0;36m1\u001b[0m\u001b[0;34m]\u001b[0m\u001b[0;34m,\u001b[0m \u001b[0mavg\u001b[0m\u001b[0;34m(\u001b[0m\u001b[0melt\u001b[0m\u001b[0;34m[\u001b[0m\u001b[0;36m1\u001b[0m\u001b[0;34m]\u001b[0m\u001b[0;34m)\u001b[0m\u001b[0;34m]\u001b[0m\u001b[0;34m)\u001b[0m\u001b[0;34m\u001b[0m\u001b[0;34m\u001b[0m\u001b[0m\n\u001b[0m\u001b[1;32m      5\u001b[0m     \u001b[0;32mreturn\u001b[0m \u001b[0mnew_stats\u001b[0m\u001b[0;34m\u001b[0m\u001b[0;34m\u001b[0m\u001b[0m\n\u001b[1;32m      6\u001b[0m \u001b[0;34m\u001b[0m\u001b[0m\n",
            "\u001b[0;32m<ipython-input-1-10515571c9b7>\u001b[0m in \u001b[0;36mavg\u001b[0;34m(grades)\u001b[0m\n\u001b[1;32m      7\u001b[0m \u001b[0;34m\u001b[0m\u001b[0m\n\u001b[1;32m      8\u001b[0m \u001b[0;32mdef\u001b[0m \u001b[0mavg\u001b[0m\u001b[0;34m(\u001b[0m\u001b[0mgrades\u001b[0m\u001b[0;34m)\u001b[0m\u001b[0;34m:\u001b[0m\u001b[0;34m\u001b[0m\u001b[0;34m\u001b[0m\u001b[0m\n\u001b[0;32m----> 9\u001b[0;31m     \u001b[0;32mreturn\u001b[0m \u001b[0msum\u001b[0m\u001b[0;34m(\u001b[0m\u001b[0mgrades\u001b[0m\u001b[0;34m)\u001b[0m\u001b[0;34m/\u001b[0m\u001b[0mlen\u001b[0m\u001b[0;34m(\u001b[0m\u001b[0mgrades\u001b[0m\u001b[0;34m)\u001b[0m\u001b[0;34m\u001b[0m\u001b[0;34m\u001b[0m\u001b[0m\n\u001b[0m\u001b[1;32m     10\u001b[0m \u001b[0;34m\u001b[0m\u001b[0m\n\u001b[1;32m     11\u001b[0m test_grades = [[['peter', 'parker'], [10.0, 5.0, 85.0]],\n",
            "\u001b[0;31mZeroDivisionError\u001b[0m: division by zero"
          ]
        }
      ]
    },
    {
      "cell_type": "markdown",
      "metadata": {
        "id": "UQ_NcXO-CYXg"
      },
      "source": [
        "What is the problem here?\n",
        "\n",
        "If one or more students have an empty list of grades, we get a `ZeroDivisionError`:\n",
        "\n",
        "```python\n",
        "test_grades = [[['peter', 'parker'], [10.0, 5.0, 85.0]],\n",
        "              [['bruce', 'wayne'], [10.0, 8.0, 74.0]],\n",
        "              [['captain', 'america'], [8.0,10.0,96.0]],\n",
        "              [['deadpool'], []]]\n",
        "```\n",
        "\n",
        "Therefore, we need to wrap the returned statement of the `avg` function into a `try-except` block.\n",
        "\n",
        "The next thing we need to figure out is what the `except` clause will do. We provide some options below:\n",
        "\n",
        "**Option 1: Print a message**\n",
        "\n",
        "```python\n",
        "def avg(grades):\n",
        "    try:\n",
        "        return sum(grades)/len(grades)\n",
        "    except ZeroDivisionError:\n",
        "        print('warning: no grades data')\n",
        "```"
      ]
    },
    {
      "cell_type": "code",
      "execution_count": null,
      "metadata": {
        "id": "NP5PZb97CYXg",
        "colab": {
          "base_uri": "https://localhost:8080/"
        },
        "outputId": "a85bf91d-d7ec-425c-dfe9-7a8e0610b8b8"
      },
      "outputs": [
        {
          "output_type": "stream",
          "name": "stdout",
          "text": [
            "warning: no grades data\n"
          ]
        },
        {
          "output_type": "execute_result",
          "data": {
            "text/plain": [
              "[[['peter', 'parker'], [10.0, 5.0, 85.0], 33.333333333333336],\n",
              " [['bruce', 'wayne'], [10.0, 8.0, 74.0], 30.666666666666668],\n",
              " [['captain', 'america'], [8.0, 10.0, 96.0], 38.0],\n",
              " [['deadpool'], [], None]]"
            ]
          },
          "metadata": {},
          "execution_count": 2
        }
      ],
      "source": [
        "def get_stats(class_list):\n",
        "    new_stats = []\n",
        "    for elt in class_list:\n",
        "        new_stats.append([elt[0], elt[1], avg(elt[1])])\n",
        "    return new_stats\n",
        "\n",
        "\n",
        "def avg(grades):\n",
        "    try:\n",
        "        return sum(grades)/len(grades)\n",
        "    except ZeroDivisionError:\n",
        "        print('warning: no grades data')\n",
        "\n",
        "test_grades = [\n",
        "                [['peter', 'parker'], [10.0, 5.0, 85.0]],\n",
        "                [['bruce', 'wayne'], [10.0, 8.0, 74.0]],\n",
        "                [['captain', 'america'], [8.0,10.0,96.0]],\n",
        "                [['deadpool'], []]\n",
        "              ]\n",
        "\n",
        "get_stats(test_grades)"
      ]
    },
    {
      "cell_type": "markdown",
      "metadata": {
        "id": "Y99GBHFBCYXh"
      },
      "source": [
        "**Change the policy**\n",
        "\n",
        "If a student has no grades, they get a zero:\n",
        "\n",
        "```python\n",
        "def avg(grades):\n",
        "    try:\n",
        "        return sum(grades)/len(grades)\n",
        "    except ZeroDivisionError:\n",
        "        print('warning: no grades data')\n",
        "        return 0.0\n",
        "```"
      ]
    },
    {
      "cell_type": "code",
      "execution_count": null,
      "metadata": {
        "id": "nZeTV-PNCYXi",
        "colab": {
          "base_uri": "https://localhost:8080/"
        },
        "outputId": "077b0ad1-2d4f-4ad5-8786-871c0e3e39e1"
      },
      "outputs": [
        {
          "output_type": "stream",
          "name": "stdout",
          "text": [
            "warning: no grades data\n"
          ]
        },
        {
          "output_type": "execute_result",
          "data": {
            "text/plain": [
              "[[['peter', 'parker'], [10.0, 5.0, 85.0], 33.333333333333336],\n",
              " [['bruce', 'wayne'], [10.0, 8.0, 74.0], 30.666666666666668],\n",
              " [['captain', 'america'], [8.0, 10.0, 96.0], 38.0],\n",
              " [['deadpool'], [], 0.0]]"
            ]
          },
          "metadata": {},
          "execution_count": 3
        }
      ],
      "source": [
        "def get_stats(class_list):\n",
        "    new_stats = []\n",
        "    for elt in class_list:\n",
        "        new_stats.append([elt[0], elt[1], avg(elt[1])])\n",
        "    return new_stats\n",
        "\n",
        "def avg(grades):\n",
        "    try:\n",
        "        return sum(grades)/len(grades)\n",
        "    except:\n",
        "        print('warning: no grades data')\n",
        "        return 0.0\n",
        "\n",
        "test_grades = [[['peter', 'parker'], [10.0, 5.0, 85.0]],\n",
        "              [['bruce', 'wayne'], [10.0, 8.0, 74.0]],\n",
        "              [['captain', 'america'], [8.0,10.0,96.0]],\n",
        "              [['deadpool'], []]]\n",
        "\n",
        "get_stats(test_grades)\n",
        "#print(\"Continue from here\")"
      ]
    },
    {
      "cell_type": "markdown",
      "source": [
        "**Option 3: Raise an error**\n",
        "\n",
        "The last option could be to raise an error and stop the program's execution. That could be a warning to us that something wrong is going on with our data (not possible for a student to have no grades, possible data error)."
      ],
      "metadata": {
        "id": "nUmJsz1EZK72"
      }
    },
    {
      "cell_type": "code",
      "source": [
        "def get_stats(class_list):\n",
        "    new_stats = []\n",
        "    for elt in class_list:\n",
        "        new_stats.append([elt[0], elt[1], avg(elt[1])])\n",
        "    return new_stats\n",
        "\n",
        "def avg(grades):\n",
        "    try:\n",
        "        return sum(grades)/len(grades)\n",
        "    except ZeroDivisionError:\n",
        "        print(\"Empty list\")\n",
        "        return 0.0\n",
        "    except TypeError:\n",
        "        raise TypeError(\"Function input not a list, or bad arguments\")\n",
        "\n",
        "test_grades = [[['peter', 'parker'], [10.0, 5.0, 85.0]],\n",
        "              [['bruce', 'wayne'], [10.0, 8.0, 74.0]],\n",
        "              [['captain', 'america'], [8.0,10.0,96.0]],\n",
        "              [['deadpool'], ['A','B+','B']]]\n",
        "\n",
        "get_stats(test_grades)\n",
        "#print(\"Continue\")"
      ],
      "metadata": {
        "id": "Z3FYdXXQS4F3",
        "colab": {
          "base_uri": "https://localhost:8080/",
          "height": 443
        },
        "outputId": "9886ba4f-803a-4568-b90c-d5916d03ddee"
      },
      "execution_count": null,
      "outputs": [
        {
          "output_type": "error",
          "ename": "TypeError",
          "evalue": "ignored",
          "traceback": [
            "\u001b[0;31m---------------------------------------------------------------------------\u001b[0m",
            "\u001b[0;31mTypeError\u001b[0m                                 Traceback (most recent call last)",
            "\u001b[0;32m<ipython-input-5-d84046863031>\u001b[0m in \u001b[0;36mavg\u001b[0;34m(grades)\u001b[0m\n\u001b[1;32m      8\u001b[0m     \u001b[0;32mtry\u001b[0m\u001b[0;34m:\u001b[0m\u001b[0;34m\u001b[0m\u001b[0;34m\u001b[0m\u001b[0m\n\u001b[0;32m----> 9\u001b[0;31m         \u001b[0;32mreturn\u001b[0m \u001b[0msum\u001b[0m\u001b[0;34m(\u001b[0m\u001b[0mgrades\u001b[0m\u001b[0;34m)\u001b[0m\u001b[0;34m/\u001b[0m\u001b[0mlen\u001b[0m\u001b[0;34m(\u001b[0m\u001b[0mgrades\u001b[0m\u001b[0;34m)\u001b[0m\u001b[0;34m\u001b[0m\u001b[0;34m\u001b[0m\u001b[0m\n\u001b[0m\u001b[1;32m     10\u001b[0m     \u001b[0;32mexcept\u001b[0m \u001b[0mZeroDivisionError\u001b[0m\u001b[0;34m:\u001b[0m\u001b[0;34m\u001b[0m\u001b[0;34m\u001b[0m\u001b[0m\n",
            "\u001b[0;31mTypeError\u001b[0m: unsupported operand type(s) for +: 'int' and 'str'",
            "\nDuring handling of the above exception, another exception occurred:\n",
            "\u001b[0;31mTypeError\u001b[0m                                 Traceback (most recent call last)",
            "\u001b[0;32m<ipython-input-5-d84046863031>\u001b[0m in \u001b[0;36m<cell line: 21>\u001b[0;34m()\u001b[0m\n\u001b[1;32m     19\u001b[0m               [['deadpool'], ['A','B+','B']]]\n\u001b[1;32m     20\u001b[0m \u001b[0;34m\u001b[0m\u001b[0m\n\u001b[0;32m---> 21\u001b[0;31m \u001b[0mget_stats\u001b[0m\u001b[0;34m(\u001b[0m\u001b[0mtest_grades\u001b[0m\u001b[0;34m)\u001b[0m\u001b[0;34m\u001b[0m\u001b[0;34m\u001b[0m\u001b[0m\n\u001b[0m\u001b[1;32m     22\u001b[0m \u001b[0;31m#print(\"Continue\")\u001b[0m\u001b[0;34m\u001b[0m\u001b[0;34m\u001b[0m\u001b[0m\n",
            "\u001b[0;32m<ipython-input-5-d84046863031>\u001b[0m in \u001b[0;36mget_stats\u001b[0;34m(class_list)\u001b[0m\n\u001b[1;32m      2\u001b[0m     \u001b[0mnew_stats\u001b[0m \u001b[0;34m=\u001b[0m \u001b[0;34m[\u001b[0m\u001b[0;34m]\u001b[0m\u001b[0;34m\u001b[0m\u001b[0;34m\u001b[0m\u001b[0m\n\u001b[1;32m      3\u001b[0m     \u001b[0;32mfor\u001b[0m \u001b[0melt\u001b[0m \u001b[0;32min\u001b[0m \u001b[0mclass_list\u001b[0m\u001b[0;34m:\u001b[0m\u001b[0;34m\u001b[0m\u001b[0;34m\u001b[0m\u001b[0m\n\u001b[0;32m----> 4\u001b[0;31m         \u001b[0mnew_stats\u001b[0m\u001b[0;34m.\u001b[0m\u001b[0mappend\u001b[0m\u001b[0;34m(\u001b[0m\u001b[0;34m[\u001b[0m\u001b[0melt\u001b[0m\u001b[0;34m[\u001b[0m\u001b[0;36m0\u001b[0m\u001b[0;34m]\u001b[0m\u001b[0;34m,\u001b[0m \u001b[0melt\u001b[0m\u001b[0;34m[\u001b[0m\u001b[0;36m1\u001b[0m\u001b[0;34m]\u001b[0m\u001b[0;34m,\u001b[0m \u001b[0mavg\u001b[0m\u001b[0;34m(\u001b[0m\u001b[0melt\u001b[0m\u001b[0;34m[\u001b[0m\u001b[0;36m1\u001b[0m\u001b[0;34m]\u001b[0m\u001b[0;34m)\u001b[0m\u001b[0;34m]\u001b[0m\u001b[0;34m)\u001b[0m\u001b[0;34m\u001b[0m\u001b[0;34m\u001b[0m\u001b[0m\n\u001b[0m\u001b[1;32m      5\u001b[0m     \u001b[0;32mreturn\u001b[0m \u001b[0mnew_stats\u001b[0m\u001b[0;34m\u001b[0m\u001b[0;34m\u001b[0m\u001b[0m\n\u001b[1;32m      6\u001b[0m \u001b[0;34m\u001b[0m\u001b[0m\n",
            "\u001b[0;32m<ipython-input-5-d84046863031>\u001b[0m in \u001b[0;36mavg\u001b[0;34m(grades)\u001b[0m\n\u001b[1;32m     12\u001b[0m         \u001b[0;32mreturn\u001b[0m \u001b[0;36m0.0\u001b[0m\u001b[0;34m\u001b[0m\u001b[0;34m\u001b[0m\u001b[0m\n\u001b[1;32m     13\u001b[0m     \u001b[0;32mexcept\u001b[0m \u001b[0mTypeError\u001b[0m\u001b[0;34m:\u001b[0m\u001b[0;34m\u001b[0m\u001b[0;34m\u001b[0m\u001b[0m\n\u001b[0;32m---> 14\u001b[0;31m         \u001b[0;32mraise\u001b[0m \u001b[0mTypeError\u001b[0m\u001b[0;34m(\u001b[0m\u001b[0;34m\"Function input not a list, or bad arguments\"\u001b[0m\u001b[0;34m)\u001b[0m\u001b[0;34m\u001b[0m\u001b[0;34m\u001b[0m\u001b[0m\n\u001b[0m\u001b[1;32m     15\u001b[0m \u001b[0;34m\u001b[0m\u001b[0m\n\u001b[1;32m     16\u001b[0m test_grades = [[['peter', 'parker'], [10.0, 5.0, 85.0]],\n",
            "\u001b[0;31mTypeError\u001b[0m: Function input not a list, or bad arguments"
          ]
        }
      ]
    },
    {
      "cell_type": "markdown",
      "metadata": {
        "id": "FufVZIZCCYXi"
      },
      "source": [
        "## `assert`\n",
        "\n",
        "Earlier we saw that one of the ways of raising an error is within an `if` statement:\n",
        "```python\n",
        "if not user_input.isdigit():\n",
        "    raise ValueError(\"Not a number...\")\n",
        "```\n",
        "\n",
        "This basically is an **assertion operation**. That means, if the code has not been asserted, it wiil not move on.\n",
        "\n",
        "In other words, the assertion in the `if` statement stops execution if the user input is not an integer.\n",
        "\n",
        "In Python, for checking assertions we have the special keyword `assert`.\n",
        "- We can use that in the previous example instead.\n",
        "\n",
        "The syntax is:\n",
        "```python\n",
        "assert condition_to_check, '...'\n",
        "```\n",
        "If `condition_to_check` is not `True`, Python will raise an exception.\n",
        "\n",
        "We mainly use assertion statement for debugging purposes.\n",
        "\n",
        "```python\n",
        "def assert_user_input():\n",
        "  user_input = input(\"Enter an integer:\")\n",
        "\n",
        "  assert int(user_input), 'Not asserted as integer...'\n",
        "\n",
        "  num = int(user_input)\n",
        "  print(num)\n",
        "```\n",
        "\n",
        "You want to be sure that assumptions on state of computation are as expected\n",
        "- `assert` raises an `AssertionError` error if assumptions not met.\n",
        "\n",
        "```python\n",
        "def avg(grades):\n",
        "    assert len(grades) != 0, 'no grades data'\n",
        "    return sum(grades)/len(grades)\n",
        "```\n",
        "\n",
        "Either raises an `AssertionError` if it is given an empty list for grades, otherwise no error is raised.\n",
        "\n",
        "Use them when:\n",
        "- goal is to spot bugs as soon as introduced and make clear where they happened.\n",
        "- bad data input.\n",
        "* check types of arguments or values\n",
        "* check constraints on return values\n",
        "\n",
        "Assertions ensure that execution halts whenever an expected condition is not met.\n",
        "\n",
        "Typically used to check inputs to functions (see example above), but can be used anywhere."
      ]
    },
    {
      "cell_type": "code",
      "execution_count": null,
      "metadata": {
        "id": "M_5JCZDMCYXi",
        "colab": {
          "base_uri": "https://localhost:8080/",
          "height": 356
        },
        "outputId": "1200e08a-a2f4-4061-a272-4237370da7a7"
      },
      "outputs": [
        {
          "output_type": "error",
          "ename": "AssertionError",
          "evalue": "ignored",
          "traceback": [
            "\u001b[0;31m---------------------------------------------------------------------------\u001b[0m",
            "\u001b[0;31mAssertionError\u001b[0m                            Traceback (most recent call last)",
            "\u001b[0;32m<ipython-input-10-b7cbcf9abe42>\u001b[0m in \u001b[0;36m<cell line: 16>\u001b[0;34m()\u001b[0m\n\u001b[1;32m     14\u001b[0m               [['deadpool'], []]]\n\u001b[1;32m     15\u001b[0m \u001b[0;34m\u001b[0m\u001b[0m\n\u001b[0;32m---> 16\u001b[0;31m \u001b[0mget_stats\u001b[0m\u001b[0;34m(\u001b[0m\u001b[0mtest_grades\u001b[0m\u001b[0;34m)\u001b[0m\u001b[0;34m\u001b[0m\u001b[0;34m\u001b[0m\u001b[0m\n\u001b[0m",
            "\u001b[0;32m<ipython-input-10-b7cbcf9abe42>\u001b[0m in \u001b[0;36mget_stats\u001b[0;34m(class_list)\u001b[0m\n\u001b[1;32m      2\u001b[0m     \u001b[0mnew_stats\u001b[0m \u001b[0;34m=\u001b[0m \u001b[0;34m[\u001b[0m\u001b[0;34m]\u001b[0m\u001b[0;34m\u001b[0m\u001b[0;34m\u001b[0m\u001b[0m\n\u001b[1;32m      3\u001b[0m     \u001b[0;32mfor\u001b[0m \u001b[0melt\u001b[0m \u001b[0;32min\u001b[0m \u001b[0mclass_list\u001b[0m\u001b[0;34m:\u001b[0m\u001b[0;34m\u001b[0m\u001b[0;34m\u001b[0m\u001b[0m\n\u001b[0;32m----> 4\u001b[0;31m         \u001b[0mnew_stats\u001b[0m\u001b[0;34m.\u001b[0m\u001b[0mappend\u001b[0m\u001b[0;34m(\u001b[0m\u001b[0;34m[\u001b[0m\u001b[0melt\u001b[0m\u001b[0;34m[\u001b[0m\u001b[0;36m0\u001b[0m\u001b[0;34m]\u001b[0m\u001b[0;34m,\u001b[0m \u001b[0melt\u001b[0m\u001b[0;34m[\u001b[0m\u001b[0;36m1\u001b[0m\u001b[0;34m]\u001b[0m\u001b[0;34m,\u001b[0m \u001b[0mavg\u001b[0m\u001b[0;34m(\u001b[0m\u001b[0melt\u001b[0m\u001b[0;34m[\u001b[0m\u001b[0;36m1\u001b[0m\u001b[0;34m]\u001b[0m\u001b[0;34m)\u001b[0m\u001b[0;34m]\u001b[0m\u001b[0;34m)\u001b[0m\u001b[0;34m\u001b[0m\u001b[0;34m\u001b[0m\u001b[0m\n\u001b[0m\u001b[1;32m      5\u001b[0m     \u001b[0;32mreturn\u001b[0m \u001b[0mnew_stats\u001b[0m\u001b[0;34m\u001b[0m\u001b[0;34m\u001b[0m\u001b[0m\n\u001b[1;32m      6\u001b[0m \u001b[0;34m\u001b[0m\u001b[0m\n",
            "\u001b[0;32m<ipython-input-10-b7cbcf9abe42>\u001b[0m in \u001b[0;36mavg\u001b[0;34m(grades)\u001b[0m\n\u001b[1;32m      6\u001b[0m \u001b[0;34m\u001b[0m\u001b[0m\n\u001b[1;32m      7\u001b[0m \u001b[0;32mdef\u001b[0m \u001b[0mavg\u001b[0m\u001b[0;34m(\u001b[0m\u001b[0mgrades\u001b[0m\u001b[0;34m)\u001b[0m\u001b[0;34m:\u001b[0m\u001b[0;34m\u001b[0m\u001b[0;34m\u001b[0m\u001b[0m\n\u001b[0;32m----> 8\u001b[0;31m     \u001b[0;32massert\u001b[0m \u001b[0mlen\u001b[0m\u001b[0;34m(\u001b[0m\u001b[0mgrades\u001b[0m\u001b[0;34m)\u001b[0m \u001b[0;34m!=\u001b[0m \u001b[0;36m0\u001b[0m\u001b[0;34m,\u001b[0m \u001b[0;34m'no grades data'\u001b[0m\u001b[0;34m\u001b[0m\u001b[0;34m\u001b[0m\u001b[0m\n\u001b[0m\u001b[1;32m      9\u001b[0m     \u001b[0;32mreturn\u001b[0m \u001b[0msum\u001b[0m\u001b[0;34m(\u001b[0m\u001b[0mgrades\u001b[0m\u001b[0;34m)\u001b[0m\u001b[0;34m/\u001b[0m\u001b[0mlen\u001b[0m\u001b[0;34m(\u001b[0m\u001b[0mgrades\u001b[0m\u001b[0;34m)\u001b[0m\u001b[0;34m\u001b[0m\u001b[0;34m\u001b[0m\u001b[0m\n\u001b[1;32m     10\u001b[0m \u001b[0;34m\u001b[0m\u001b[0m\n",
            "\u001b[0;31mAssertionError\u001b[0m: no grades data"
          ]
        }
      ],
      "source": [
        "def get_stats(class_list):\n",
        "    new_stats = []\n",
        "    for elt in class_list:\n",
        "        new_stats.append([elt[0], elt[1], avg(elt[1])])\n",
        "    return new_stats\n",
        "\n",
        "def avg(grades):\n",
        "    assert len(grades) != 0, 'no grades data'\n",
        "    return sum(grades)/len(grades)\n",
        "\n",
        "test_grades = [[['peter', 'parker'], [10.0, 5.0, 85.0]],\n",
        "              [['bruce', 'wayne'], [10.0, 8.0, 74.0]],\n",
        "              [['captain', 'america'], [8.0,10.0,96.0]],\n",
        "              [['deadpool'], []]]\n",
        "\n",
        "get_stats(test_grades)"
      ]
    }
  ],
  "metadata": {
    "kernelspec": {
      "display_name": "Python 3 (ipykernel)",
      "language": "python",
      "name": "python3"
    },
    "language_info": {
      "codemirror_mode": {
        "name": "ipython",
        "version": 3
      },
      "file_extension": ".py",
      "mimetype": "text/x-python",
      "name": "python",
      "nbconvert_exporter": "python",
      "pygments_lexer": "ipython3",
      "version": "3.8.2"
    },
    "colab": {
      "provenance": [],
      "include_colab_link": true
    }
  },
  "nbformat": 4,
  "nbformat_minor": 0
}