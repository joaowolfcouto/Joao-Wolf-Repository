{
  "cells": [
    {
      "cell_type": "markdown",
      "metadata": {
        "id": "view-in-github",
        "colab_type": "text"
      },
      "source": [
        "<a href=\"https://colab.research.google.com/github/joaowolfcouto/Joao-Wolf-Repository/blob/main/Class_Notes.ipynb\" target=\"_parent\"><img src=\"https://colab.research.google.com/assets/colab-badge.svg\" alt=\"Open In Colab\"/></a>"
      ]
    },
    {
      "cell_type": "markdown",
      "source": [
        "Design a calculator with Python\n",
        "\n",
        "1.   Starting with infinite loop\n",
        "2.  Implement all of numerical operators (+,-,**,/,//,%)\n",
        "3. User has to provide the numbers and the desired operator from the keyboard; then, the calculator will display the result, this is done by using three diferent input() for each one of the inputs\n",
        "4. The calculator stops when the user enters the word \"break\"\n",
        "\n",
        "\n"
      ],
      "metadata": {
        "id": "9VVTL-sZlZNz"
      }
    },
    {
      "cell_type": "code",
      "source": [
        "def add(x, y):\n",
        "    \"\"\"Add Function\"\"\"\n",
        "    return x + y\n",
        "\n",
        "def subtract(x, y):\n",
        "    \"\"\"Subtract Function\"\"\"\n",
        "    return x - y\n",
        "\n",
        "def multiply(x, y):\n",
        "    \"\"\"Multiply Function\"\"\"\n",
        "    return x * y\n",
        "\n",
        "def divide(x, y):\n",
        "    \"\"\"Divide Function\"\"\"\n",
        "    if y == 0:\n",
        "        return \"Error! Division by zero.\"\n",
        "    else:\n",
        "        return x / y"
      ],
      "metadata": {
        "id": "EikpFM_zsLPj"
      },
      "execution_count": 3,
      "outputs": []
    },
    {
      "cell_type": "code",
      "source": [
        "def add(x, y):\n",
        "    \"\"\"Add Function\"\"\"\n",
        "    return x + y\n",
        "\n",
        "def subtract(x, y):\n",
        "    \"\"\"Subtract Function\"\"\"\n",
        "    return x - y\n",
        "\n",
        "def multiply(x, y):\n",
        "    \"\"\"Multiply Function\"\"\"\n",
        "    return x * y\n",
        "\n",
        "def divide(x, y):\n",
        "    \"\"\"Divide Function\"\"\"\n",
        "    if y == 0:\n",
        "        return \"Error! Division by zero.\"\n",
        "    else:\n",
        "        return x / y\n",
        "if operator == \"break\"\n",
        "break\n",
        "# Function to run the calculator\n",
        "def run_calculator():\n",
        "    print(\"Select operation:\")\n",
        "    print(\"1. Add\")\n",
        "    print(\"2. Subtract\")\n",
        "    print(\"3. Multiply\")\n",
        "    print(\"4. Divide\")\n",
        "\n",
        "    choice = input(\"Enter choice(1/2/3/4): \")\n",
        "\n",
        "    if choice in ('1', '2', '3', '4'):\n",
        "        num1 = float(input(\"Enter first number: \"))\n",
        "        num2 = float(input(\"Enter second number: \"))\n",
        "\n",
        "        if choice == '1':\n",
        "            print(num1, \"+\", num2, \"=\", add(num1, num2))\n",
        "        elif choice == '2':\n",
        "            print(num1, \"-\", num2, \"=\", subtract(num1, num2))\n",
        "        elif choice == '3':\n",
        "            print(num1, \"*\", num2, \"=\", multiply(num1, num2))\n",
        "        elif choice == '4':\n",
        "            result = divide(num1, num2)\n",
        "            if isinstance(result, str):\n",
        "                print(result)\n",
        "            else:\n",
        "                print(num1, \"/\", num2, \"=\", result)\n",
        "    else:\n",
        "        print(\"Invalid input\")\n",
        "\n",
        "# The actual execution of the function run_calculator() would require user input, which we cannot do in this environment.\n",
        "# This code is meant to be run in a Python interpreter or script execution environment where user input can be provided.\n"
      ],
      "metadata": {
        "id": "qYM22UAHslDH"
      },
      "execution_count": null,
      "outputs": []
    },
    {
      "cell_type": "code",
      "source": [
        "from ast import operator\n",
        "while True:\n",
        "  operator = input('enter mathmatical operator:')\n",
        "\n",
        "if operator == 'break':\n",
        "  break\n",
        "\n",
        "num1 = float(input('Enter first number'))\n",
        "num2 = float(input('Enter second number'))\n",
        "\n",
        "if operator == \"+\":\n",
        "  print(f'{num1} + {num2} = {num1 + num2}')\n",
        "elif operator == \"-\":\n",
        "  print(f'{num1} - {num2} = {num1 - num2}')\n",
        "\n",
        "else:\n",
        "  print('invalid operator:'),operator\n",
        ""
      ],
      "metadata": {
        "colab": {
          "base_uri": "https://localhost:8080/"
        },
        "id": "R7lE5VqruXZ2",
        "outputId": "2d6ee599-79a6-41f8-a6ca-df99e2ec8b7c"
      },
      "execution_count": null,
      "outputs": [
        {
          "name": "stdout",
          "output_type": "stream",
          "text": [
            "enter mathmatical operator:2\n",
            "enter mathmatical operator:3\n",
            "enter mathmatical operator:break\n"
          ]
        }
      ]
    }
  ],
  "metadata": {
    "colab": {
      "provenance": [],
      "include_colab_link": true
    },
    "kernelspec": {
      "display_name": "Python 3",
      "name": "python3"
    }
  },
  "nbformat": 4,
  "nbformat_minor": 0
}