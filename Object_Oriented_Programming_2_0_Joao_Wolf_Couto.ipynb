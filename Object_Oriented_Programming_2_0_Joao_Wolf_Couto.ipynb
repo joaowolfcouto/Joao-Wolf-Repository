{
  "nbformat": 4,
  "nbformat_minor": 0,
  "metadata": {
    "colab": {
      "provenance": [],
      "include_colab_link": true
    },
    "kernelspec": {
      "name": "python3",
      "display_name": "Python 3"
    },
    "language_info": {
      "name": "python"
    }
  },
  "cells": [
    {
      "cell_type": "markdown",
      "metadata": {
        "id": "view-in-github",
        "colab_type": "text"
      },
      "source": [
        "<a href=\"https://colab.research.google.com/github/joaowolfcouto/Joao-Wolf-Repository/blob/main/Object_Oriented_Programming_2_0_Joao_Wolf_Couto.ipynb\" target=\"_parent\"><img src=\"https://colab.research.google.com/assets/colab-badge.svg\" alt=\"Open In Colab\"/></a>"
      ]
    },
    {
      "cell_type": "code",
      "execution_count": null,
      "metadata": {
        "id": "2fhdGp5f1w8V"
      },
      "outputs": [],
      "source": []
    },
    {
      "cell_type": "code",
      "source": [
        "#Example of class (double underscore __name__ means special method) , class and def create their own indentations\n",
        "class Animal:\n",
        "  #This is the constructor method; used to initialize the instance attributes (a.k.a data) of each class instance\n",
        "  # (a.k.a objct)\n",
        "  def __init__(self, dims, weight, life_exp):\n",
        "    self.dims = dims #setting up instance attributes\n",
        "    self.weight = weight\n",
        "    self.life_exp = life_exp\n",
        "    self.name = None\n"
      ],
      "metadata": {
        "id": "GzaQbYoG6NNC"
      },
      "execution_count": null,
      "outputs": []
    },
    {
      "cell_type": "markdown",
      "source": [
        "**Object Oriented Programming ** is a programming paradigm based on the concept of objects, which can contain data and code:\n",
        "\n",
        "\n",
        "*   Data in the form of fields\n",
        "*   Code in the form of Procedures\n",
        "\n",
        "Data = Attribute : what an object is\n",
        "\n",
        "Behavior = Methods : \"\" can do\n",
        "\n",
        "class int\n",
        "\n",
        "\n",
        "*   flood\n",
        "*   string\n",
        "*   tuple\n",
        "\n",
        "##3 Frequent entities used\n",
        "\n",
        "\n",
        "** Inheritance**: Inheritance refers to the concept that one class can inherit attributes and methods from another class. In finance, starting with a\n",
        "general financial instrument, the next level could be a general derivative instrument, then a European option, then a European call\n",
        "option. Every class might inherit attributes and methods from class(es) on a higher level\n",
        "\n",
        "Example:\n",
        "\n",
        "Animal\n",
        "  *  Attributes\n",
        "       * Dimensions\n",
        "       * Weight\n",
        "\n",
        "  *  Methods\n",
        "     *  Noise\n",
        "     *  What does it eat\n",
        "     *  Sleep\n",
        "\n",
        "Subclasses (offspring of class 'Animal'), so can inherit anything from the Animal Class- can create more specific classes based off the parent class\n",
        "\n",
        "1.   Mammal\n",
        "\n",
        "\n",
        "  *   Attributes\n",
        "\n",
        "\n",
        "    1.   Legs\n",
        "    2.   Hair\n",
        "\n",
        "\n",
        "  *   Methods\n",
        "\n",
        "\n",
        "    1.   Motion\n",
        "    2.   List item\n",
        "\n",
        "\n",
        "\n",
        "2.   Reptile\n",
        "\n",
        "\n",
        "\n",
        "\n",
        " ** Polymorphism**: Polymorphism can take on multiple forms. Of particular importance in a Python context is what is called duck typing. This refers to\n",
        "the fact that standard operations can be implemented on many different classes and their instances without knowing exactly what\n",
        "object one is dealing with. For a class of financial instruments this might mean that one can call a method get_current_price()\n",
        "independent of the specific type of the object (stock, option, swap).\n",
        "\n",
        "** Encapsulation **: This concept refers to the approach of making data within a class private and only accessible via public methods. A class modeling\n",
        "a stock might have an attribute current_stock_price . Encapsulation would then give access to the attribute value via a method\n",
        "get_current_stock_price() and would hide the data itself from the user. This approach might avoid unintended effects by\n",
        "simply working with and possibly changing attribute values.\n",
        "\n",
        "\n",
        "\n",
        "\n",
        "\n",
        "\n",
        "\n"
      ],
      "metadata": {
        "id": "zqji74DE1znh"
      }
    },
    {
      "cell_type": "code",
      "source": [
        "a = Animal([1,2,3],10.9,80)"
      ],
      "metadata": {
        "id": "gjCm8MCZ_fa_"
      },
      "execution_count": null,
      "outputs": []
    },
    {
      "cell_type": "code",
      "source": [
        "def payment(self):\n",
        "  r = self.__interest/1000\n",
        "  n = self.maturity*12\n",
        "  return self.amount * (r* (1+r) ** n )/ ((1+r) ** n-1)\n",
        "\n"
      ],
      "metadata": {
        "id": "fxFZnYBWyyUh"
      },
      "execution_count": null,
      "outputs": []
    },
    {
      "cell_type": "code",
      "source": [
        "m = Mortgage (100000,30,6)"
      ],
      "metadata": {
        "id": "LvOuHJMxzilU"
      },
      "execution_count": null,
      "outputs": []
    },
    {
      "cell_type": "code",
      "source": [
        "class Car:\n",
        "  def _init__(self,make,model,year):\n",
        "    self.make = make\n",
        "    self.model = model\n",
        "    self.year= year\n",
        "    self.utility = 'SUV'\n",
        "\n",
        "  def accelerate(self):\n",
        "    print(f'The {self.make} accelerates.')"
      ],
      "metadata": {
        "id": "3AwLTdDDzwev"
      },
      "execution_count": null,
      "outputs": []
    },
    {
      "cell_type": "code",
      "source": [
        "c = Car ('Ford',150,'2023')\n",
        "d = Car('Crysler',130,'2020')"
      ],
      "metadata": {
        "id": "wk_rpuBn0aeu"
      },
      "execution_count": null,
      "outputs": []
    },
    {
      "cell_type": "code",
      "source": [
        "class Mortgage:\n",
        "  def __init__(self ,amount,maturity,interest):\n",
        "    self.amount = amount\n",
        "    self.maturity = maturity\n",
        "    self.__interest = interest\n",
        "\n",
        "  def __str__(self):\n",
        "    return \"I am an instance of mortgage\"\n",
        "\n",
        "  def get_interest(self):\n",
        "    return self.__interest\n",
        "\n",
        "  def set_interest(self, newInterest):\n",
        "    if newInterest >=0:\n",
        "      self.__interest = newInterest\n",
        "    else:\n",
        "      print ('Interest values must be non-negative')\n",
        "\n",
        "\n",
        "  def payment(self):\n",
        "      r = self.__interest/100\n",
        "      n = self.maturity*12\n",
        "      return self.amount * (r* (1+r) ** n )/ ((1+r) ** n-1)\n"
      ],
      "metadata": {
        "id": "s3L7DXTJ0vvW"
      },
      "execution_count": null,
      "outputs": []
    },
    {
      "cell_type": "code",
      "source": [
        "m = Mortgage(100000,30,6)\n",
        "m.payment()"
      ],
      "metadata": {
        "colab": {
          "base_uri": "https://localhost:8080/"
        },
        "id": "RD3QHnvh1LrJ",
        "outputId": "fb8e64b2-9808-486a-8ac1-5f0b845516c0"
      },
      "execution_count": null,
      "outputs": [
        {
          "output_type": "execute_result",
          "data": {
            "text/plain": [
              "6000.000004656286"
            ]
          },
          "metadata": {},
          "execution_count": 64
        }
      ]
    },
    {
      "cell_type": "code",
      "source": [
        "m.set_interest(5)\n",
        "m.get_interest()"
      ],
      "metadata": {
        "id": "PgGMck4j3TQb"
      },
      "execution_count": null,
      "outputs": []
    },
    {
      "cell_type": "code",
      "source": [
        "from os import XATTR_CREATE\n",
        "x = 2\n",
        "print(XATTR_CREATE)"
      ],
      "metadata": {
        "id": "zH8jcVH-5ajA"
      },
      "execution_count": null,
      "outputs": []
    },
    {
      "cell_type": "code",
      "source": [
        "class Mortgage:\n",
        "  def __init__ (self, loan_amount, interest_rate, maturity_term):\n",
        "    self.loan_amount = loan_amount\n",
        "    self.interest_rate = interest_rate\n",
        "    self.maturity_term = maturity_term\n",
        "\n",
        "  def payment(self):\n",
        "    r = self.interest_rate/100\n",
        "    n = self.maturity_term*12\n",
        "    return self.amount * (r* (1+r) ** n )/ ((1+r) ** n-1)\n",
        "\n",
        "\n",
        "m = Mortgage(100000,30,6)\n",
        "m.payment()\n"
      ],
      "metadata": {
        "id": "df2Iqdvk7I5i",
        "outputId": "6d364018-f2ce-43f9-ae9f-acea63a1b10b",
        "colab": {
          "base_uri": "https://localhost:8080/",
          "height": 305
        }
      },
      "execution_count": null,
      "outputs": [
        {
          "output_type": "error",
          "ename": "AttributeError",
          "evalue": "'Mortgage' object has no attribute 'amount'",
          "traceback": [
            "\u001b[0;31m---------------------------------------------------------------------------\u001b[0m",
            "\u001b[0;31mAttributeError\u001b[0m                            Traceback (most recent call last)",
            "\u001b[0;32m<ipython-input-1-2c018daae210>\u001b[0m in \u001b[0;36m<cell line: 14>\u001b[0;34m()\u001b[0m\n\u001b[1;32m     12\u001b[0m \u001b[0;34m\u001b[0m\u001b[0m\n\u001b[1;32m     13\u001b[0m \u001b[0mm\u001b[0m \u001b[0;34m=\u001b[0m \u001b[0mMortgage\u001b[0m\u001b[0;34m(\u001b[0m\u001b[0;36m100000\u001b[0m\u001b[0;34m,\u001b[0m\u001b[0;36m30\u001b[0m\u001b[0;34m,\u001b[0m\u001b[0;36m6\u001b[0m\u001b[0;34m)\u001b[0m\u001b[0;34m\u001b[0m\u001b[0;34m\u001b[0m\u001b[0m\n\u001b[0;32m---> 14\u001b[0;31m \u001b[0mm\u001b[0m\u001b[0;34m.\u001b[0m\u001b[0mpayment\u001b[0m\u001b[0;34m(\u001b[0m\u001b[0;34m)\u001b[0m\u001b[0;34m\u001b[0m\u001b[0;34m\u001b[0m\u001b[0m\n\u001b[0m",
            "\u001b[0;32m<ipython-input-1-2c018daae210>\u001b[0m in \u001b[0;36mpayment\u001b[0;34m(self)\u001b[0m\n\u001b[1;32m      8\u001b[0m     \u001b[0mr\u001b[0m \u001b[0;34m=\u001b[0m \u001b[0mself\u001b[0m\u001b[0;34m.\u001b[0m\u001b[0minterest_rate\u001b[0m\u001b[0;34m/\u001b[0m\u001b[0;36m100\u001b[0m\u001b[0;34m\u001b[0m\u001b[0;34m\u001b[0m\u001b[0m\n\u001b[1;32m      9\u001b[0m     \u001b[0mn\u001b[0m \u001b[0;34m=\u001b[0m \u001b[0mself\u001b[0m\u001b[0;34m.\u001b[0m\u001b[0mmaturity_term\u001b[0m\u001b[0;34m*\u001b[0m\u001b[0;36m12\u001b[0m\u001b[0;34m\u001b[0m\u001b[0;34m\u001b[0m\u001b[0m\n\u001b[0;32m---> 10\u001b[0;31m     \u001b[0;32mreturn\u001b[0m \u001b[0mself\u001b[0m\u001b[0;34m.\u001b[0m\u001b[0mamount\u001b[0m \u001b[0;34m*\u001b[0m \u001b[0;34m(\u001b[0m\u001b[0mr\u001b[0m\u001b[0;34m*\u001b[0m \u001b[0;34m(\u001b[0m\u001b[0;36m1\u001b[0m\u001b[0;34m+\u001b[0m\u001b[0mr\u001b[0m\u001b[0;34m)\u001b[0m \u001b[0;34m**\u001b[0m \u001b[0mn\u001b[0m \u001b[0;34m)\u001b[0m\u001b[0;34m/\u001b[0m \u001b[0;34m(\u001b[0m\u001b[0;34m(\u001b[0m\u001b[0;36m1\u001b[0m\u001b[0;34m+\u001b[0m\u001b[0mr\u001b[0m\u001b[0;34m)\u001b[0m \u001b[0;34m**\u001b[0m \u001b[0mn\u001b[0m\u001b[0;34m-\u001b[0m\u001b[0;36m1\u001b[0m\u001b[0;34m)\u001b[0m\u001b[0;34m\u001b[0m\u001b[0;34m\u001b[0m\u001b[0m\n\u001b[0m\u001b[1;32m     11\u001b[0m \u001b[0;34m\u001b[0m\u001b[0m\n\u001b[1;32m     12\u001b[0m \u001b[0;34m\u001b[0m\u001b[0m\n",
            "\u001b[0;31mAttributeError\u001b[0m: 'Mortgage' object has no attribute 'amount'"
          ]
        }
      ]
    },
    {
      "cell_type": "code",
      "source": [
        "class A:\n",
        "  def __init__(self, item):\n",
        "    self.item=item\n",
        "  def whoAmI(self):\n",
        "    print('I am an instance of class A')\n",
        "\n",
        "class B:\n",
        "  def __init__(self, item):\n",
        "    self.item=item\n",
        "  def whoAmI(self):\n",
        "    print('I am an instance of class B')\n",
        "\n",
        "a = A(2)\n",
        "b = B(3)\n"
      ],
      "metadata": {
        "id": "oOIk5g2M_K8Q"
      },
      "execution_count": null,
      "outputs": []
    },
    {
      "cell_type": "code",
      "source": [
        "a.whoAmI()"
      ],
      "metadata": {
        "colab": {
          "base_uri": "https://localhost:8080/"
        },
        "id": "VbKcPCzS_lmp",
        "outputId": "ab382b63-7064-4b0b-c976-0130a9a8a554"
      },
      "execution_count": null,
      "outputs": [
        {
          "output_type": "stream",
          "name": "stdout",
          "text": [
            "I am an instance of class A\n"
          ]
        }
      ]
    },
    {
      "cell_type": "code",
      "source": [
        "b.whoAmI()"
      ],
      "metadata": {
        "colab": {
          "base_uri": "https://localhost:8080/"
        },
        "id": "jjpJ1PIt_5mv",
        "outputId": "b7d8a795-1c99-4eaf-e515-f9cbc5a8f694"
      },
      "execution_count": null,
      "outputs": [
        {
          "output_type": "stream",
          "name": "stdout",
          "text": [
            "I am an instance of class B\n"
          ]
        }
      ]
    },
    {
      "cell_type": "code",
      "source": [
        "class Animal:\n",
        "  def __init__(self):\n",
        "    print('Animal created')\n",
        "\n",
        "  def whoAmI(self):\n",
        "    print('I am an animal')\n",
        "\n"
      ],
      "metadata": {
        "id": "7ZKvPlWOAeuu"
      },
      "execution_count": null,
      "outputs": []
    },
    {
      "cell_type": "code",
      "source": [
        "class Bird(Animal):\n",
        "  def fly(self):\n",
        "    print ('Birds can fly')\n"
      ],
      "metadata": {
        "id": "V9o9AUD4AuyG"
      },
      "execution_count": null,
      "outputs": []
    },
    {
      "cell_type": "code",
      "source": [
        "  b= Bird()\n",
        "  b.whoAmI"
      ],
      "metadata": {
        "colab": {
          "base_uri": "https://localhost:8080/",
          "height": 122
        },
        "id": "YKaYr2O5BPtT",
        "outputId": "50d79c07-5803-4801-e897-c86222253675"
      },
      "execution_count": null,
      "outputs": [
        {
          "output_type": "stream",
          "name": "stdout",
          "text": [
            "Animal created\n"
          ]
        },
        {
          "output_type": "execute_result",
          "data": {
            "text/plain": [
              "<bound method Animal.whoAmI of <__main__.Bird object at 0x78b3b6fe7b20>>"
            ],
            "text/html": [
              "<div style=\"max-width:800px; border: 1px solid var(--colab-border-color);\"><style>\n",
              "      pre.function-repr-contents {\n",
              "        overflow-x: auto;\n",
              "        padding: 8px 12px;\n",
              "        max-height: 500px;\n",
              "      }\n",
              "\n",
              "      pre.function-repr-contents.function-repr-contents-collapsed {\n",
              "        cursor: pointer;\n",
              "        max-height: 100px;\n",
              "      }\n",
              "    </style>\n",
              "    <pre style=\"white-space: initial; background:\n",
              "         var(--colab-secondary-surface-color); padding: 8px 12px;\n",
              "         border-bottom: 1px solid var(--colab-border-color);\"><b>Animal.whoAmI</b><br/>def whoAmI()</pre><pre class=\"function-repr-contents function-repr-contents-collapsed\" style=\"\"><a class=\"filepath\" style=\"display:none\" href=\"#\">/content/&lt;ipython-input-93-db083f00b7a3&gt;</a>&lt;no docstring&gt;</pre></div>"
            ]
          },
          "metadata": {},
          "execution_count": 95
        }
      ]
    },
    {
      "cell_type": "code",
      "source": [
        "a = Animal()\n",
        "a.fly()"
      ],
      "metadata": {
        "id": "yk1hJoTKBjco"
      },
      "execution_count": null,
      "outputs": []
    }
  ]
}