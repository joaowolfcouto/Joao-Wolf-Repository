{
  "nbformat": 4,
  "nbformat_minor": 0,
  "metadata": {
    "colab": {
      "provenance": [],
      "include_colab_link": true
    },
    "kernelspec": {
      "name": "python3",
      "display_name": "Python 3"
    },
    "language_info": {
      "name": "python"
    }
  },
  "cells": [
    {
      "cell_type": "markdown",
      "metadata": {
        "id": "view-in-github",
        "colab_type": "text"
      },
      "source": [
        "<a href=\"https://colab.research.google.com/github/joaowolfcouto/Joao-Wolf-Repository/blob/main/Date_Exercise_Joao_Wolf_Couto.ipynb\" target=\"_parent\"><img src=\"https://colab.research.google.com/assets/colab-badge.svg\" alt=\"Open In Colab\"/></a>"
      ]
    },
    {
      "cell_type": "code",
      "execution_count": null,
      "metadata": {
        "id": "E2bbAaYfw4im"
      },
      "outputs": [],
      "source": [
        "# Write a program that takes as input from the keyboard a string that corresponds to a date (e.g., 02/20/2024) in format: MM/DD/YYYY\n",
        "\n",
        "date = input(('Enter Date: MM/DD/YYYY: '))\n",
        "month = date[0:2]\n",
        "day= date[3:5]\n",
        "year= date[6:10]\n",
        "\n",
        "print(f\" the month is {month}\")\n",
        "print(f\"the day is {day}\")\n",
        "print(f\" the year is {year}\")\n"
      ]
    },
    {
      "cell_type": "code",
      "source": [
        "date = input (\"Enter the date: \")\n",
        "month= date[0:2]\n",
        "day= date[3:5]\n",
        "year= date[6:10]\n",
        "\n",
        "print(month,day,year)\n"
      ],
      "metadata": {
        "colab": {
          "base_uri": "https://localhost:8080/"
        },
        "id": "f1kvrgCN0QA3",
        "outputId": "4f3bd9dd-d3e9-44fc-c895-2502cda244c3"
      },
      "execution_count": null,
      "outputs": [
        {
          "output_type": "stream",
          "name": "stdout",
          "text": [
            "Enter the date: 02/02.2002\n",
            "02 02 2002\n"
          ]
        }
      ]
    },
    {
      "cell_type": "code",
      "source": [],
      "metadata": {
        "id": "MvQ95_mO0iZW"
      },
      "execution_count": null,
      "outputs": []
    }
  ]
}